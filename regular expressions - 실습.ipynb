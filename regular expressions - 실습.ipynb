{
 "cells": [
  {
   "cell_type": "code",
   "execution_count": 1,
   "metadata": {},
   "outputs": [],
   "source": [
    "story = '''Born to the prestigious Crownguards, the paragon family of Demacian service, Luxanna was destined for greatness. She grew up as the family's only daughter, and she immediately took to the advanced education and lavish parties required of families as high profile as the Crownguards. As Lux matured, it became clear that she was extraordinarily gifted. She could play tricks that made people believe they had seen things that did not actually exist. She could also hide in plain sight. Somehow, she was able to reverse engineer arcane magical spells after seeing them cast only once. She was hailed as a prodigy, drawing the affections of the Demacian government, military, and citizens alike.\n",
    "\n",
    "As one of the youngest women to be tested by the College of Magic, she was discovered to possess a unique command over the powers of light. The young Lux viewed this as a great gift, something for her to embrace and use in the name of good. Realizing her unique skills, the Demacian military recruited and trained her in covert operations. She quickly became renowned for her daring achievements; the most dangerous of which found her deep in the chambers of the Noxian High Command. She extracted valuable inside information about the Noxus-Ionian conflict, earning her great favor with Demacians and Ionians alike. However, reconnaissance and surveillance was not for her. A light of her people, Lux's true calling was the League of Legends, where she could follow in her brother's footsteps and unleash her gifts as an inspiration for all of Demacia.'''"
   ]
  },
  {
   "cell_type": "code",
   "execution_count": 2,
   "metadata": {},
   "outputs": [
    {
     "name": "stdout",
     "output_type": "stream",
     "text": [
      "Born to the prestigious Crownguards, the paragon family of Demacian service, Luxanna was destined for greatness. She grew up as the family's only daughter, and she immediately took to the advanced education and lavish parties required of families as high profile as the Crownguards. As Lux matured, it became clear that she was extraordinarily gifted. She could play tricks that made people believe they had seen things that did not actually exist. She could also hide in plain sight. Somehow, she was able to reverse engineer arcane magical spells after seeing them cast only once. She was hailed as a prodigy, drawing the affections of the Demacian government, military, and citizens alike.\n",
      "\n",
      "As one of the youngest women to be tested by the College of Magic, she was discovered to possess a unique command over the powers of light. The young Lux viewed this as a great gift, something for her to embrace and use in the name of good. Realizing her unique skills, the Demacian military recruited and trained her in covert operations. She quickly became renowned for her daring achievements; the most dangerous of which found her deep in the chambers of the Noxian High Command. She extracted valuable inside information about the Noxus-Ionian conflict, earning her great favor with Demacians and Ionians alike. However, reconnaissance and surveillance was not for her. A light of her people, Lux's true calling was the League of Legends, where she could follow in her brother's footsteps and unleash her gifts as an inspiration for all of Demacia.\n"
     ]
    }
   ],
   "source": [
    "print(story)"
   ]
  },
  {
   "cell_type": "code",
   "execution_count": 3,
   "metadata": {},
   "outputs": [
    {
     "data": {
      "text/plain": [
       "['Lux', 'Lux', 'Lux', 'Lux']"
      ]
     },
     "execution_count": 3,
     "metadata": {},
     "output_type": "execute_result"
    }
   ],
   "source": [
    "import re\n",
    "\n",
    "re.findall('Lux', story)"
   ]
  },
  {
   "cell_type": "code",
   "execution_count": 4,
   "metadata": {},
   "outputs": [
    {
     "data": {
      "text/plain": [
       "['Lux',\n",
       " 'she',\n",
       " 'Lux',\n",
       " 'she',\n",
       " 'she',\n",
       " 'she',\n",
       " 'Lux',\n",
       " 'her',\n",
       " 'her',\n",
       " 'her',\n",
       " 'her',\n",
       " 'her',\n",
       " 'her',\n",
       " 'her',\n",
       " 'her',\n",
       " 'Lux',\n",
       " 'her',\n",
       " 'she',\n",
       " 'her',\n",
       " 'her',\n",
       " 'her']"
      ]
     },
     "execution_count": 4,
     "metadata": {},
     "output_type": "execute_result"
    }
   ],
   "source": [
    "re.findall('Lux|her|she', story)"
   ]
  },
  {
   "cell_type": "code",
   "execution_count": 5,
   "metadata": {},
   "outputs": [
    {
     "data": {
      "text/plain": [
       "['Lux',\n",
       " 'She',\n",
       " 'she',\n",
       " 'Lux',\n",
       " 'she',\n",
       " 'She',\n",
       " 'She',\n",
       " 'she',\n",
       " 'She',\n",
       " 'she',\n",
       " 'Lux',\n",
       " 'her',\n",
       " 'her',\n",
       " 'her',\n",
       " 'She',\n",
       " 'her',\n",
       " 'her',\n",
       " 'She',\n",
       " 'her',\n",
       " 'her',\n",
       " 'her',\n",
       " 'Lux',\n",
       " 'her',\n",
       " 'she',\n",
       " 'her',\n",
       " 'her',\n",
       " 'her']"
      ]
     },
     "execution_count": 5,
     "metadata": {},
     "output_type": "execute_result"
    }
   ],
   "source": [
    "re.findall('[Ll]ux|[Hh]er|[Ss]he', story)"
   ]
  },
  {
   "cell_type": "code",
   "execution_count": 6,
   "metadata": {},
   "outputs": [
    {
     "data": {
      "text/plain": [
       "['Born']"
      ]
     },
     "execution_count": 6,
     "metadata": {},
     "output_type": "execute_result"
    }
   ],
   "source": [
    "re.findall('^Born', story)"
   ]
  },
  {
   "cell_type": "code",
   "execution_count": 7,
   "metadata": {},
   "outputs": [
    {
     "data": {
      "text/plain": [
       "[]"
      ]
     },
     "execution_count": 7,
     "metadata": {},
     "output_type": "execute_result"
    }
   ],
   "source": [
    "re.findall('Demacia$', story)"
   ]
  },
  {
   "cell_type": "code",
   "execution_count": 8,
   "metadata": {},
   "outputs": [
    {
     "data": {
      "text/plain": [
       "['was', 'was', 'was', 'was', 'was', 'was', 'was']"
      ]
     },
     "execution_count": 8,
     "metadata": {},
     "output_type": "execute_result"
    }
   ],
   "source": [
    "re.findall('was', story)"
   ]
  },
  {
   "cell_type": "code",
   "execution_count": 9,
   "metadata": {},
   "outputs": [
    {
     "data": {
      "text/plain": [
       "[' was', ' was', ' was']"
      ]
     },
     "execution_count": 9,
     "metadata": {},
     "output_type": "execute_result"
    }
   ],
   "source": [
    "re.findall('(?<=she) was', story)"
   ]
  },
  {
   "cell_type": "code",
   "execution_count": 10,
   "metadata": {},
   "outputs": [
    {
     "data": {
      "text/plain": [
       "[]"
      ]
     },
     "execution_count": 10,
     "metadata": {},
     "output_type": "execute_result"
    }
   ],
   "source": [
    "re.findall('w+(?<!she) was', story)"
   ]
  },
  {
   "cell_type": "code",
   "execution_count": 11,
   "metadata": {},
   "outputs": [
    {
     "data": {
      "text/plain": [
       "[]"
      ]
     },
     "execution_count": 11,
     "metadata": {},
     "output_type": "execute_result"
    }
   ],
   "source": [
    "re.findall('\\bwas\\b', story)"
   ]
  },
  {
   "cell_type": "code",
   "execution_count": 12,
   "metadata": {},
   "outputs": [
    {
     "data": {
      "text/plain": [
       "['was', 'was', 'was', 'was', 'was', 'was', 'was']"
      ]
     },
     "execution_count": 12,
     "metadata": {},
     "output_type": "execute_result"
    }
   ],
   "source": [
    "re.findall(r'\\bwas\\b', story)"
   ]
  },
  {
   "cell_type": "markdown",
   "metadata": {},
   "source": [
    "\\b: '\\w', '\\W'와의 경계"
   ]
  },
  {
   "cell_type": "code",
   "execution_count": 13,
   "metadata": {},
   "outputs": [],
   "source": [
    "import string\n",
    "printable = string.printable"
   ]
  },
  {
   "cell_type": "code",
   "execution_count": 14,
   "metadata": {},
   "outputs": [
    {
     "name": "stdout",
     "output_type": "stream",
     "text": [
      "['!', '\"', '#', '$', '%', '&', \"'\", '(', ')', '*', '+', ',', '-', '.', '/', ':', ';', '<', '=', '>', '?', '@', '[', '\\\\', ']', '^', '`', '{', '|', '}', '~', ' ', '\\t', '\\n', '\\r', '\\x0b', '\\x0c']\n"
     ]
    }
   ],
   "source": [
    "print(re.findall('\\W', printable))"
   ]
  },
  {
   "cell_type": "code",
   "execution_count": 15,
   "metadata": {},
   "outputs": [
    {
     "name": "stdout",
     "output_type": "stream",
     "text": [
      "[' ', '\\t', '\\n', '\\r', '\\x0b', '\\x0c']\n"
     ]
    }
   ],
   "source": [
    "print(re.findall('\\s', printable))"
   ]
  },
  {
   "cell_type": "code",
   "execution_count": 16,
   "metadata": {},
   "outputs": [
    {
     "name": "stdout",
     "output_type": "stream",
     "text": [
      "\\\n"
     ]
    }
   ],
   "source": [
    "print('\\\\')"
   ]
  },
  {
   "cell_type": "code",
   "execution_count": 17,
   "metadata": {},
   "outputs": [
    {
     "data": {
      "text/plain": [
       "<_sre.SRE_Match object; span=(77, 88), match='Luxanna was'>"
      ]
     },
     "execution_count": 17,
     "metadata": {},
     "output_type": "execute_result"
    }
   ],
   "source": [
    "re.search(r'\\w+\\b\\s*(was)', story)"
   ]
  },
  {
   "cell_type": "code",
   "execution_count": 18,
   "metadata": {},
   "outputs": [],
   "source": [
    "match_list = re.finditer(r'(?P<before>\\w+)\\s+(?P<was>was)\\s+(?P<after>\\w+)', story)"
   ]
  },
  {
   "cell_type": "code",
   "execution_count": 19,
   "metadata": {},
   "outputs": [
    {
     "name": "stdout",
     "output_type": "stream",
     "text": [
      "('Luxanna', 'was', 'destined')\n",
      "('she', 'was', 'extraordinarily')\n",
      "('she', 'was', 'able')\n",
      "('She', 'was', 'hailed')\n",
      "('she', 'was', 'discovered')\n",
      "('surveillance', 'was', 'not')\n",
      "('calling', 'was', 'the')\n"
     ]
    }
   ],
   "source": [
    "for m in match_list:\n",
    "    print(m.groups())"
   ]
  },
  {
   "cell_type": "code",
   "execution_count": 20,
   "metadata": {},
   "outputs": [],
   "source": [
    "pattern_string = r'(?P<before_was>\\w+)\\b\\s*was\\b\\s*(?P<after_was>\\w+)'\n",
    "\n",
    "pattern = re.compile(r'''\n",
    "    # was를 기준으로 전/후 단어를 그룹화\n",
    "    (?P<before_was>\\w+)     # was가 오기 전의 단어 (before_was)라는 그룹 이름을 가짐)\n",
    "    \\b\\s*was\\b\\s*           # was와 양쪽 공백이며 단어 경계를 포함하는 부분\n",
    "    (?P<after_was>\\w+)      # was가 나온 뒤의 단어\n",
    "''', re.VERBOSE)"
   ]
  },
  {
   "cell_type": "code",
   "execution_count": 21,
   "metadata": {},
   "outputs": [
    {
     "name": "stdout",
     "output_type": "stream",
     "text": [
      "Luxanna,destined\n",
      "she,extraordinarily\n",
      "she,able\n",
      "She,hailed\n",
      "she,discovered\n",
      "surveillance,not\n",
      "calling,the\n"
     ]
    }
   ],
   "source": [
    "match_list = re.finditer(pattern, story)\n",
    "for m in match_list:\n",
    "    print('{},{}'.format(m.group('before_was'), m.group('after_was')))"
   ]
  },
  {
   "cell_type": "code",
   "execution_count": 22,
   "metadata": {},
   "outputs": [],
   "source": [
    "html = '<html><body><h1>HTML</h1></body></html>'"
   ]
  },
  {
   "cell_type": "code",
   "execution_count": 23,
   "metadata": {},
   "outputs": [
    {
     "name": "stdout",
     "output_type": "stream",
     "text": [
      "<html><body><h1>HTML</h1></body></html>\n"
     ]
    }
   ],
   "source": [
    "m = re.match(r'<.*>', html)\n",
    "print(m.group())"
   ]
  },
  {
   "cell_type": "code",
   "execution_count": 24,
   "metadata": {},
   "outputs": [
    {
     "name": "stdout",
     "output_type": "stream",
     "text": [
      "<html>\n"
     ]
    }
   ],
   "source": [
    "m = re.match(r'<.*?>', html)\n",
    "print(m.group())"
   ]
  },
  {
   "cell_type": "code",
   "execution_count": 25,
   "metadata": {},
   "outputs": [
    {
     "name": "stdout",
     "output_type": "stream",
     "text": [
      "Born to the prestigious Crownguards, the paragon family of Demacian service, Luxanna was destined for greatness. She grew up as the family's only daughter, and she immediately took to the advanced education and lavish parties required of families as high profile as the Crownguards. As Lux matured, it became clear that she was extraordinarily gifted. She could play tricks that made people believe they had seen things that did not actually exist. She could also hide in plain sight. Somehow, she was able to reverse engineer arcane magical spells after seeing them cast only once. She was hailed as a prodigy, drawing the affections of the Demacian government, military, and citizens alike.\n",
      "\n",
      "As one of the youngest women to be tested by the College of Magic, she was discovered to possess a unique command over the powers of light. The young Lux viewed this as a great gift, something for her to embrace and use in the name of good. Realizing her unique skills, the Demacian military recruited and trained her in covert operations. She quickly became renowned for her daring achievements; the most dangerous of which found her deep in the chambers of the Noxian High Command. She extracted valuable inside information about the Noxus-Ionian conflict, earning her great favor with Demacians and Ionians alike. However, reconnaissance and surveillance was not for her. A light of her people, Lux's true calling was the League of Legends, where she could follow in her brother's footsteps and unleash her gifts as an inspiration for all of Demacia.\n"
     ]
    }
   ],
   "source": [
    "print(story)"
   ]
  },
  {
   "cell_type": "code",
   "execution_count": 26,
   "metadata": {},
   "outputs": [
    {
     "data": {
      "text/plain": [
       "['also', 'able']"
      ]
     },
     "execution_count": 26,
     "metadata": {},
     "output_type": "execute_result"
    }
   ],
   "source": [
    "re.findall(r'\\ba\\w{3}\\b', story)"
   ]
  },
  {
   "cell_type": "code",
   "execution_count": 27,
   "metadata": {},
   "outputs": [
    {
     "data": {
      "text/plain": [
       "['for',\n",
       " 'daughter',\n",
       " 'clear',\n",
       " 'engineer',\n",
       " 'after',\n",
       " 'over',\n",
       " 'for',\n",
       " 'her',\n",
       " 'her',\n",
       " 'her',\n",
       " 'for',\n",
       " 'her',\n",
       " 'her',\n",
       " 'her',\n",
       " 'favor',\n",
       " 'However',\n",
       " 'for',\n",
       " 'her',\n",
       " 'her',\n",
       " 'her',\n",
       " 'brother',\n",
       " 'her',\n",
       " 'for']"
      ]
     },
     "execution_count": 27,
     "metadata": {},
     "output_type": "execute_result"
    }
   ],
   "source": [
    "re.findall(r'\\w+r\\b', story)"
   ]
  },
  {
   "cell_type": "code",
   "execution_count": 28,
   "metadata": {},
   "outputs": [
    {
     "data": {
      "text/plain": [
       "['advanced', 'became', 'made', 'embrace', 'became', 'deep']"
      ]
     },
     "execution_count": 28,
     "metadata": {},
     "output_type": "execute_result"
    }
   ],
   "source": [
    "re.findall(r'\\w*[abcde]{3}\\w*', story)"
   ]
  },
  {
   "cell_type": "code",
   "execution_count": 29,
   "metadata": {},
   "outputs": [
    {
     "name": "stdout",
     "output_type": "stream",
     "text": [
      "('Born', 'o')\n",
      "('the', 'restigious')\n",
      "('Crownguards', 'he')\n",
      "('paragon', 'amily')\n",
      "('of', 'emacian')\n",
      "('service', 'uxanna')\n",
      "('was', 'estined')\n",
      "('for', 'reatness')\n",
      "('She', 'rew')\n",
      "('up', 's')\n",
      "('the', 'amily')\n",
      "('s', 'nly')\n",
      "('daughter', 'nd')\n",
      "('she', 'mmediately')\n",
      "('took', 'o')\n",
      "('the', 'dvanced')\n",
      "('education', 'nd')\n",
      "('lavish', 'arties')\n",
      "('required', 'f')\n",
      "('families', 's')\n",
      "('high', 'rofile')\n",
      "('as', 'he')\n",
      "('Crownguards', 's')\n",
      "('Lux', 'atured')\n",
      "('it', 'ecame')\n",
      "('clear', 'hat')\n",
      "('she', 'as')\n",
      "('extraordinarily', 'ifted')\n",
      "('She', 'ould')\n",
      "('play', 'ricks')\n",
      "('that', 'ade')\n",
      "('people', 'elieve')\n",
      "('they', 'ad')\n",
      "('seen', 'hings')\n",
      "('that', 'id')\n",
      "('not', 'ctually')\n",
      "('exist', 'he')\n",
      "('could', 'lso')\n",
      "('hide', 'n')\n",
      "('plain', 'ight')\n",
      "('Somehow', 'he')\n",
      "('was', 'ble')\n",
      "('to', 'everse')\n",
      "('engineer', 'rcane')\n",
      "('magical', 'pells')\n",
      "('after', 'eeing')\n",
      "('them', 'ast')\n",
      "('only', 'nce')\n",
      "('She', 'as')\n",
      "('hailed', 's')\n",
      "('a', 'rodigy')\n",
      "('drawing', 'he')\n",
      "('affections', 'f')\n",
      "('the', 'emacian')\n",
      "('government', 'ilitary')\n",
      "('and', 'itizens')\n",
      "('alike', 's')\n",
      "('one', 'f')\n",
      "('the', 'oungest')\n",
      "('women', 'o')\n",
      "('be', 'ested')\n",
      "('by', 'he')\n",
      "('College', 'f')\n",
      "('Magic', 'he')\n",
      "('was', 'iscovered')\n",
      "('to', 'ossess')\n",
      "('a', 'nique')\n",
      "('command', 'ver')\n",
      "('the', 'owers')\n",
      "('of', 'ight')\n",
      "('The', 'oung')\n",
      "('Lux', 'iewed')\n",
      "('this', 's')\n",
      "('a', 'reat')\n",
      "('gift', 'omething')\n",
      "('for', 'er')\n",
      "('to', 'mbrace')\n",
      "('and', 'se')\n",
      "('in', 'he')\n",
      "('name', 'f')\n",
      "('good', 'ealizing')\n",
      "('her', 'nique')\n",
      "('skills', 'he')\n",
      "('Demacian', 'ilitary')\n",
      "('recruited', 'nd')\n",
      "('trained', 'er')\n",
      "('in', 'overt')\n",
      "('operations', 'he')\n",
      "('quickly', 'ecame')\n",
      "('renowned', 'or')\n",
      "('her', 'aring')\n",
      "('achievements', 'he')\n",
      "('most', 'angerous')\n",
      "('of', 'hich')\n",
      "('found', 'er')\n",
      "('deep', 'n')\n",
      "('the', 'hambers')\n",
      "('of', 'he')\n",
      "('Noxian', 'igh')\n",
      "('Command', 'he')\n",
      "('extracted', 'aluable')\n",
      "('inside', 'nformation')\n",
      "('about', 'he')\n",
      "('Noxus', 'onian')\n",
      "('conflict', 'arning')\n",
      "('her', 'reat')\n",
      "('favor', 'ith')\n",
      "('Demacians', 'nd')\n",
      "('Ionians', 'like')\n",
      "('However', 'econnaissance')\n",
      "('and', 'urveillance')\n",
      "('was', 'ot')\n",
      "('for', 'er')\n",
      "('A', 'ight')\n",
      "('of', 'er')\n",
      "('people', 'ux')\n",
      "('s', 'rue')\n",
      "('calling', 'as')\n",
      "('the', 'eague')\n",
      "('of', 'egends')\n",
      "('where', 'he')\n",
      "('could', 'ollow')\n",
      "('in', 'er')\n",
      "('brother', 'footsteps')\n",
      "('and', 'nleash')\n",
      "('her', 'ifts')\n",
      "('as', 'n')\n",
      "('inspiration', 'or')\n",
      "('all', 'f')\n",
      "('Demac', 'a')\n"
     ]
    }
   ],
   "source": [
    "m_list = re.finditer(r'(?P<before>\\w+)\\W*.\\W*(?P<after>\\w+)', story)\n",
    "for m in m_list:\n",
    "    print(m.groups())"
   ]
  },
  {
   "cell_type": "code",
   "execution_count": 30,
   "metadata": {},
   "outputs": [
    {
     "data": {
      "text/plain": [
       "'abc def ghi jkl'"
      ]
     },
     "execution_count": 30,
     "metadata": {},
     "output_type": "execute_result"
    }
   ],
   "source": [
    "re.sub(r'\\w+fff','rept','abc def ghi jkl')"
   ]
  },
  {
   "cell_type": "code",
   "execution_count": null,
   "metadata": {},
   "outputs": [],
   "source": []
  }
 ],
 "metadata": {
  "kernelspec": {
   "display_name": "Python 3",
   "language": "python",
   "name": "python3"
  },
  "language_info": {
   "codemirror_mode": {
    "name": "ipython",
    "version": 3
   },
   "file_extension": ".py",
   "mimetype": "text/x-python",
   "name": "python",
   "nbconvert_exporter": "python",
   "pygments_lexer": "ipython3",
   "version": "3.6.6"
  }
 },
 "nbformat": 4,
 "nbformat_minor": 2
}
