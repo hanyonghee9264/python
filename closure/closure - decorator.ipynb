{
 "cells": [
  {
   "cell_type": "code",
   "execution_count": 1,
   "metadata": {},
   "outputs": [],
   "source": [
    "# 클로져\n",
    "level = ()\n",
    "\n",
    "def outer():\n",
    "    level = 50\n",
    "    \n",
    "    def inner():\n",
    "        nonlocal level\n",
    "        level += 3\n",
    "        print(level)\n",
    "    return inner\n",
    "\n",
    "f1 = outer()\n",
    "f2 = outer()\n",
    "# 변수는 어떤 타입의 객체인가?"
   ]
  },
  {
   "cell_type": "code",
   "execution_count": 2,
   "metadata": {},
   "outputs": [],
   "source": [
    "## 데코레이터"
   ]
  },
  {
   "cell_type": "code",
   "execution_count": 3,
   "metadata": {},
   "outputs": [],
   "source": [
    "def square(x):\n",
    "    result= x ** 2\n",
    "#     print('입력값은 :', x)\n",
    "#     print('결과는', result)\n",
    "    return result\n",
    "\n",
    "def multi(x,y):\n",
    "    result = x * y\n",
    "#     print('입력값은 :', x,y)\n",
    "#     print('결과는', result)\n",
    "    return result"
   ]
  },
  {
   "cell_type": "code",
   "execution_count": 4,
   "metadata": {},
   "outputs": [],
   "source": [
    "result1 = square(3)"
   ]
  },
  {
   "cell_type": "code",
   "execution_count": 5,
   "metadata": {},
   "outputs": [],
   "source": [
    "result2 = multi(3,5)"
   ]
  },
  {
   "cell_type": "code",
   "execution_count": 6,
   "metadata": {},
   "outputs": [],
   "source": [
    "# def debug\n",
    "\n",
    "# 1. 매개변수로 함수 하나를 사용 (호출시 함수 인자 하나를 받음)\n",
    "#    매개변수명은 'f' 사용\n",
    "# 2. 내부함수 wrap를 정의\n",
    "#    wrap함수는 위치인자 묶음과 키워드인자 묶음을 모두 받을 수 있도록 정의\n",
    "# 3. wrap함수의 내부에서 매개변수 'f'를 실행,\n",
    "#    f실행시 인자에 wrap함수의 매개변수로 주어진 *args, **kwargs를 전달\n",
    "#    -> 결과를 result에 할당\n",
    "# 4. wrap함수의 마지막에서 result값을 리턴\n",
    "# 5. debug함수의 마지막에서 wrap함수 자체를 리턴 (wrap함수 실행 결과가 아님)\n",
    "\n",
    "# debug함수 인자로 square(또는 multi)함수 자체를 전달\n",
    "# 결과값을 decorated,square(또는 decorated_multi) 변수에 할당\n",
    "# 새 변수 (함수가 정의됨)를 실행해보기"
   ]
  },
  {
   "cell_type": "code",
   "execution_count": 7,
   "metadata": {},
   "outputs": [],
   "source": [
    "def debug(f):\n",
    "    def wrap(*args, **kwargs):\n",
    "        result = f(*args, **kwargs)\n",
    "        print('위치인자 목록',args)\n",
    "        print('키워드인자 목록',kwargs)\n",
    "        print('결과값',result)\n",
    "        return result\n",
    "    return wrap"
   ]
  },
  {
   "cell_type": "code",
   "execution_count": 8,
   "metadata": {},
   "outputs": [],
   "source": [
    "decorated_square = debug(square)"
   ]
  },
  {
   "cell_type": "code",
   "execution_count": 9,
   "metadata": {},
   "outputs": [],
   "source": [
    "decorated_multi = debug(multi)"
   ]
  },
  {
   "cell_type": "code",
   "execution_count": 10,
   "metadata": {},
   "outputs": [
    {
     "name": "stdout",
     "output_type": "stream",
     "text": [
      "위치인자 목록 (3,)\n",
      "키워드인자 목록 {}\n",
      "결과값 9\n"
     ]
    },
    {
     "data": {
      "text/plain": [
       "9"
      ]
     },
     "execution_count": 10,
     "metadata": {},
     "output_type": "execute_result"
    }
   ],
   "source": [
    "decorated_square(3)"
   ]
  },
  {
   "cell_type": "code",
   "execution_count": 11,
   "metadata": {},
   "outputs": [
    {
     "name": "stdout",
     "output_type": "stream",
     "text": [
      "위치인자 목록 (3, 5)\n",
      "키워드인자 목록 {}\n",
      "결과값 15\n"
     ]
    },
    {
     "data": {
      "text/plain": [
       "15"
      ]
     },
     "execution_count": 11,
     "metadata": {},
     "output_type": "execute_result"
    }
   ],
   "source": [
    "decorated_multi(3,5)"
   ]
  },
  {
   "cell_type": "code",
   "execution_count": 12,
   "metadata": {},
   "outputs": [
    {
     "name": "stdout",
     "output_type": "stream",
     "text": [
      "1\n",
      "2\n",
      "3\n",
      "4\n",
      "5\n",
      "6\n",
      "7\n",
      "8\n",
      "9\n",
      "10\n"
     ]
    }
   ],
   "source": [
    "for i in [1,2,3,4,5,6,7,8,9,10]:\n",
    "    print(i)"
   ]
  },
  {
   "cell_type": "code",
   "execution_count": 13,
   "metadata": {},
   "outputs": [
    {
     "name": "stdout",
     "output_type": "stream",
     "text": [
      "1\n",
      "2\n",
      "3\n",
      "4\n",
      "5\n",
      "6\n",
      "7\n",
      "8\n",
      "9\n",
      "10\n"
     ]
    }
   ],
   "source": [
    "for i in range(1, 11):\n",
    "    print(i)"
   ]
  },
  {
   "cell_type": "code",
   "execution_count": 14,
   "metadata": {},
   "outputs": [],
   "source": [
    "def range_gen(num):\n",
    "    i = 0\n",
    "    while i < num:\n",
    "        yield i\n",
    "        i += 1"
   ]
  },
  {
   "cell_type": "code",
   "execution_count": 15,
   "metadata": {},
   "outputs": [],
   "source": [
    "result = range_gen(10)"
   ]
  },
  {
   "cell_type": "code",
   "execution_count": 16,
   "metadata": {},
   "outputs": [
    {
     "name": "stdout",
     "output_type": "stream",
     "text": [
      "<class 'generator'>\n",
      "<generator object range_gen at 0x7f88780f5db0>\n"
     ]
    }
   ],
   "source": [
    "print(type(result))\n",
    "print(result)"
   ]
  },
  {
   "cell_type": "code",
   "execution_count": 17,
   "metadata": {},
   "outputs": [
    {
     "name": "stdout",
     "output_type": "stream",
     "text": [
      "0\n",
      "1\n",
      "2\n",
      "3\n",
      "4\n",
      "5\n",
      "6\n",
      "7\n",
      "8\n",
      "9\n"
     ]
    }
   ],
   "source": [
    "for i in result:\n",
    "    print(i)"
   ]
  },
  {
   "cell_type": "code",
   "execution_count": 18,
   "metadata": {},
   "outputs": [
    {
     "data": {
      "text/plain": [
       "<method-wrapper '__next__' of generator object at 0x7f88780f5db0>"
      ]
     },
     "execution_count": 18,
     "metadata": {},
     "output_type": "execute_result"
    }
   ],
   "source": [
    "result.__next__"
   ]
  },
  {
   "cell_type": "code",
   "execution_count": 19,
   "metadata": {},
   "outputs": [
    {
     "ename": "StopIteration",
     "evalue": "",
     "output_type": "error",
     "traceback": [
      "\u001b[0;31m---------------------------------------------------------------------------\u001b[0m",
      "\u001b[0;31mStopIteration\u001b[0m                             Traceback (most recent call last)",
      "\u001b[0;32m<ipython-input-19-50b54792e3ae>\u001b[0m in \u001b[0;36m<module>\u001b[0;34m()\u001b[0m\n\u001b[0;32m----> 1\u001b[0;31m \u001b[0mresult\u001b[0m\u001b[0;34m.\u001b[0m\u001b[0m__next__\u001b[0m\u001b[0;34m(\u001b[0m\u001b[0;34m)\u001b[0m\u001b[0;34m\u001b[0m\u001b[0m\n\u001b[0m",
      "\u001b[0;31mStopIteration\u001b[0m: "
     ]
    }
   ],
   "source": [
    "result.__next__()"
   ]
  },
  {
   "cell_type": "code",
   "execution_count": null,
   "metadata": {},
   "outputs": [],
   "source": [
    "result.__str__()"
   ]
  },
  {
   "cell_type": "code",
   "execution_count": null,
   "metadata": {},
   "outputs": [],
   "source": [
    "len('ABCD')"
   ]
  },
  {
   "cell_type": "code",
   "execution_count": null,
   "metadata": {},
   "outputs": [],
   "source": [
    "def color_fruits(color):\n",
    "    if color == 'red':\n",
    "        return 'apple'\n",
    "    elif color == 'yellow':\n",
    "        return 'banana'\n",
    "    elif color == 'green':\n",
    "        return 'melon'\n",
    "    else:\n",
    "        return 'I don`t know'\n"
   ]
  },
  {
   "cell_type": "code",
   "execution_count": null,
   "metadata": {},
   "outputs": [],
   "source": [
    "color_fruits('red')"
   ]
  },
  {
   "cell_type": "code",
   "execution_count": null,
   "metadata": {},
   "outputs": [],
   "source": [
    "color_fruit_dict = {\n",
    "    '''\n",
    "    입력받은 color에 해당하는 과일 문자열을 리턴\n",
    "    정보가 없는 경우 \"I don`t know\"를 리턴\n",
    "    '''\n",
    "    'red':'apple',\n",
    "    'yellow':'banana',\n",
    "    'green':'melon',\n",
    "}"
   ]
  },
  {
   "cell_type": "code",
   "execution_count": null,
   "metadata": {},
   "outputs": [],
   "source": [
    "def what_fruit2(color):\n",
    "    return color_fruit_dict.get(color, 'I don`t know')"
   ]
  },
  {
   "cell_type": "code",
   "execution_count": null,
   "metadata": {},
   "outputs": [],
   "source": [
    "what_fruit2('purple')"
   ]
  },
  {
   "cell_type": "code",
   "execution_count": null,
   "metadata": {},
   "outputs": [],
   "source": [
    "# 2번 문제\n",
    "help(what_fruit2)"
   ]
  },
  {
   "cell_type": "code",
   "execution_count": null,
   "metadata": {},
   "outputs": [],
   "source": [
    "# 3번 문제\n",
    "def square_or_multi(*args):\n",
    "    if len(args)> 1:\n",
    "        return args[0] * args[1]\n",
    "    return args[0] **2\n",
    "\n",
    "square_or_multi(3, 2)"
   ]
  },
  {
   "cell_type": "code",
   "execution_count": null,
   "metadata": {},
   "outputs": [],
   "source": [
    "def square_or_multi2(arg1, arg2=None):\n",
    "    if arg2:\n",
    "        return arg1 * arg2\n",
    "    return arg1 ** 2\n",
    "square_or_multi(3,4)"
   ]
  },
  {
   "cell_type": "markdown",
   "metadata": {},
   "source": [
    "# * 과  **"
   ]
  },
  {
   "cell_type": "code",
   "execution_count": null,
   "metadata": {},
   "outputs": [],
   "source": [
    "def abcd(a,b,c,d):\n",
    "    print(a,b,c,d)"
   ]
  },
  {
   "cell_type": "code",
   "execution_count": null,
   "metadata": {},
   "outputs": [],
   "source": [
    "args = (1,3,5,7)"
   ]
  },
  {
   "cell_type": "code",
   "execution_count": null,
   "metadata": {},
   "outputs": [],
   "source": [
    "abcd(1,3,5,7)"
   ]
  },
  {
   "cell_type": "code",
   "execution_count": null,
   "metadata": {},
   "outputs": [],
   "source": [
    "abcd(*args)\n",
    "\n",
    "# 이거랑"
   ]
  },
  {
   "cell_type": "code",
   "execution_count": null,
   "metadata": {},
   "outputs": [],
   "source": [
    "abcd(args)\n",
    "\n",
    "# 밑에꺼랑 다름\n",
    "\n",
    "# *을 안붙이면 args 라는 인자 1개만 넣은것"
   ]
  },
  {
   "cell_type": "code",
   "execution_count": null,
   "metadata": {},
   "outputs": [],
   "source": [
    "# 4번 문제\n",
    "# def sub(x,y):\n",
    "#     result1 = x + y\n",
    "#     result2 = x - y\n",
    "#     return result1, result2   \n",
    "# 내가 풀이"
   ]
  },
  {
   "cell_type": "code",
   "execution_count": null,
   "metadata": {},
   "outputs": [],
   "source": [
    "# 4번 문제\n",
    "def sub(x,y):\n",
    "    return x + y, x - y"
   ]
  },
  {
   "cell_type": "code",
   "execution_count": null,
   "metadata": {},
   "outputs": [],
   "source": [
    "# 4번 을 한 줄로\n",
    "\n",
    "def sum_sub(x,y):\n",
    "    return x + y, x - y if x > y else y - x"
   ]
  },
  {
   "cell_type": "code",
   "execution_count": null,
   "metadata": {},
   "outputs": [],
   "source": [
    "sub(8,3)"
   ]
  },
  {
   "cell_type": "code",
   "execution_count": null,
   "metadata": {},
   "outputs": [],
   "source": [
    "# 4번 다른 풀이방법\n",
    "def sub(x,y):\n",
    "    return x + y, x > y and x - y or y -x"
   ]
  },
  {
   "cell_type": "code",
   "execution_count": null,
   "metadata": {},
   "outputs": [],
   "source": [
    "sub(3,5)"
   ]
  },
  {
   "cell_type": "code",
   "execution_count": null,
   "metadata": {},
   "outputs": [],
   "source": [
    "# 5번 문제\n",
    "\n",
    "def print_args_info(*args):\n",
    "    len_args = len(args)\n",
    "    print(len_args)\n",
    "    return len_args"
   ]
  },
  {
   "cell_type": "code",
   "execution_count": null,
   "metadata": {},
   "outputs": [],
   "source": [
    "result = print_args_info(3,4,5,6)"
   ]
  },
  {
   "cell_type": "code",
   "execution_count": null,
   "metadata": {},
   "outputs": [],
   "source": [
    "# 6번 문제\n",
    "x = 3\n",
    "y = 6\n",
    "f'{x} * {y} = {x*y}'"
   ]
  },
  {
   "cell_type": "code",
   "execution_count": null,
   "metadata": {},
   "outputs": [],
   "source": [
    "def make_str(x,y):\n",
    "    return '{} x {} = {}'.format(x,y,x*y)"
   ]
  },
  {
   "cell_type": "code",
   "execution_count": null,
   "metadata": {},
   "outputs": [],
   "source": [
    "multiplcation_table1 = [make_str(a,b) for a in range(2, 10) for b in range(1, 10)]"
   ]
  },
  {
   "cell_type": "code",
   "execution_count": null,
   "metadata": {},
   "outputs": [],
   "source": [
    "multiplcation_table2 = [(lamda x,y:f'{x} x {y} = {x*y}')(a,b) for a in range(2,10) for b in range(1,10)]"
   ]
  },
  {
   "cell_type": "code",
   "execution_count": null,
   "metadata": {},
   "outputs": [],
   "source": [
    "sample = 'ABCDEFGHIJKLMN'\n",
    "\n",
    "def sequential_search(string, key):\n",
    "    # 1. string(문자열)을 각 문자단위로 순회\n",
    "    # 2. 순회하며 해당 Loop의 loop_count(index)를 기억해놓아야 한다.\n",
    "    # 3. 현재 순회중인 문자와 매개변수의 'key'가 같은 값인지 확인\n",
    "    # 4. 같다면 기억중이던 loop count(index)를 리턴\n",
    "    # 5. 중간에 리턴없이 순회가 모두 종료된다면 (찾지못했다면) -> -1을 리턴\n",
    "    return\n",
    "    "
   ]
  },
  {
   "cell_type": "code",
   "execution_count": null,
   "metadata": {},
   "outputs": [],
   "source": [
    "sample = 'ABCDE'\n",
    "\n",
    "def sequential_search(string, key):\n",
    "    index = 0\n",
    "    # string(문자열)을 각 문자단위로 순회\n",
    "    while index < len(string):\n",
    "        # 현재 순회중인 문자와 매개변수의 'key'가 같은 값인지 확인\n",
    "        if string[index] == key:\n",
    "            # 같다면 기억중이던 loop count(index)를 확인\n",
    "            return index\n",
    "        index += 1\n",
    "    \n",
    "    return -1\n",
    "    # 중간에 리턴없이 순회가 모두 종료된다면 (찾지못했다면) -> -1을 리턴\n",
    "\n",
    "sequential_search('ABCDE','F')\n",
    "        \n",
    "        "
   ]
  },
  {
   "cell_type": "code",
   "execution_count": null,
   "metadata": {},
   "outputs": [],
   "source": [
    "result = sequential_search('ABCDE', 'D')\n",
    "print(result)\n",
    "# 3"
   ]
  },
  {
   "cell_type": "code",
   "execution_count": null,
   "metadata": {},
   "outputs": [],
   "source": [
    "result = sequential_search('ABCDE', 'F')\n",
    "print(result)\n",
    "# -1"
   ]
  },
  {
   "cell_type": "code",
   "execution_count": null,
   "metadata": {},
   "outputs": [],
   "source": [
    "# .index메서드는 쓰지마세요\n",
    "sample.index('E')"
   ]
  },
  {
   "cell_type": "markdown",
   "metadata": {},
   "source": [
    "# 선택정렬"
   ]
  },
  {
   "cell_type": "code",
   "execution_count": null,
   "metadata": {},
   "outputs": [],
   "source": [
    "# 길이가 10인 리스트 정렬시\n",
    "# 0번째 값 바꾸기\n",
    "[9,1,6,8,4,3,2,0,5,7]\n",
    "# index가 0인 루프\n",
    "# 가장 작은 값을 찾는다 (0)\n",
    "# index 0번 요소와 자리를 바꿈\n",
    "\n",
    "[0,1,6,8,4,3,2,9,5,7]\n",
    "# index1가 1인루프\n",
    "# 가장 작은 값을 찾는다 (1)\n",
    "# index 1번 요소와 자리를 바꿈\n",
    "\n",
    "[0,1,2,8,4,3,6,9,5,7]\n",
    "# index가 2인 루프\n",
    "# 가장 작은 값을 찾는다 (2)\n",
    "# index 2번 요소와 자리를 바꿈"
   ]
  },
  {
   "cell_type": "code",
   "execution_count": 20,
   "metadata": {},
   "outputs": [],
   "source": [
    "sample = [9,1,6,8,4,3,2,0,5,7]"
   ]
  },
  {
   "cell_type": "code",
   "execution_count": 21,
   "metadata": {},
   "outputs": [],
   "source": [
    "# for문 작성\n",
    "# 매 루프마다 print실행\n",
    "# [9,1,6,8,4,3,2,0,5,7]\n",
    "# [1,6,8,4,3,2,0,5,7]\n",
    "# [6,8,4,3,2,0,5,7]\n",
    "# ...\n",
    "# [5,7]\n",
    "# 총 9번 실행 (길이 - 1번)"
   ]
  },
  {
   "cell_type": "code",
   "execution_count": 26,
   "metadata": {},
   "outputs": [
    {
     "name": "stdout",
     "output_type": "stream",
     "text": [
      "[9, 1, 6, 8, 4, 3, 2, 0, 5, 7]\n",
      "[1, 6, 8, 4, 3, 2, 0, 5, 7]\n",
      "[6, 8, 4, 3, 2, 0, 5, 7]\n",
      "[8, 4, 3, 2, 0, 5, 7]\n",
      "[4, 3, 2, 0, 5, 7]\n",
      "[3, 2, 0, 5, 7]\n",
      "[2, 0, 5, 7]\n",
      "[0, 5, 7]\n",
      "[5, 7]\n"
     ]
    }
   ],
   "source": [
    "for x in range(len(sample) -1):\n",
    "    # 내부에서 다시 새로운 for-loop를 진행\n",
    "    # (x부터 리스트 끝까지)\n",
    "    # 해당 내부 loop에서의 최소값과 그 index를 기억\n",
    "    # loop가 끝난 후, 최소값을 가진 index와 x index의 값들을 서로 교환\n",
    "    print(sample[x:])\n",
    "    "
   ]
  },
  {
   "cell_type": "code",
   "execution_count": 44,
   "metadata": {},
   "outputs": [
    {
     "name": "stdout",
     "output_type": "stream",
     "text": [
      "0번째 loop, 현재 리스트 상황: [9, 1, 6, 8, 4, 3, 2, 0, 5, 7]\n",
      "0번째 loop의 최소 index는 7, 값은: 0\n",
      "0번째 loop, 교체후 리스트 상황: [0, 1, 6, 8, 4, 3, 2, 9, 5, 7]\n",
      "\n",
      "1번째 loop, 현재 리스트 상황: [0, 1, 6, 8, 4, 3, 2, 9, 5, 7]\n",
      "1번째 loop의 최소 index는 1, 값은: 1\n",
      "1번째 loop, 교체후 리스트 상황: [0, 1, 6, 8, 4, 3, 2, 9, 5, 7]\n",
      "\n",
      "2번째 loop, 현재 리스트 상황: [0, 1, 6, 8, 4, 3, 2, 9, 5, 7]\n",
      "2번째 loop의 최소 index는 6, 값은: 2\n",
      "2번째 loop, 교체후 리스트 상황: [0, 1, 2, 8, 4, 3, 6, 9, 5, 7]\n",
      "\n",
      "3번째 loop, 현재 리스트 상황: [0, 1, 2, 8, 4, 3, 6, 9, 5, 7]\n",
      "3번째 loop의 최소 index는 5, 값은: 3\n",
      "3번째 loop, 교체후 리스트 상황: [0, 1, 2, 3, 4, 8, 6, 9, 5, 7]\n",
      "\n",
      "4번째 loop, 현재 리스트 상황: [0, 1, 2, 3, 4, 8, 6, 9, 5, 7]\n",
      "4번째 loop의 최소 index는 4, 값은: 4\n",
      "4번째 loop, 교체후 리스트 상황: [0, 1, 2, 3, 4, 8, 6, 9, 5, 7]\n",
      "\n",
      "5번째 loop, 현재 리스트 상황: [0, 1, 2, 3, 4, 8, 6, 9, 5, 7]\n",
      "5번째 loop의 최소 index는 8, 값은: 5\n",
      "5번째 loop, 교체후 리스트 상황: [0, 1, 2, 3, 4, 5, 6, 9, 8, 7]\n",
      "\n",
      "6번째 loop, 현재 리스트 상황: [0, 1, 2, 3, 4, 5, 6, 9, 8, 7]\n",
      "6번째 loop의 최소 index는 6, 값은: 6\n",
      "6번째 loop, 교체후 리스트 상황: [0, 1, 2, 3, 4, 5, 6, 9, 8, 7]\n",
      "\n",
      "7번째 loop, 현재 리스트 상황: [0, 1, 2, 3, 4, 5, 6, 9, 8, 7]\n",
      "7번째 loop의 최소 index는 9, 값은: 7\n",
      "7번째 loop, 교체후 리스트 상황: [0, 1, 2, 3, 4, 5, 6, 7, 8, 9]\n",
      "\n",
      "8번째 loop, 현재 리스트 상황: [0, 1, 2, 3, 4, 5, 6, 7, 8, 9]\n",
      "8번째 loop의 최소 index는 8, 값은: 8\n",
      "8번째 loop, 교체후 리스트 상황: [0, 1, 2, 3, 4, 5, 6, 7, 8, 9]\n",
      "\n"
     ]
    }
   ],
   "source": [
    "for x in range(len(sample)-1):\n",
    "    # x: 외부 loop의 index (리스트 길이 - 1번 만큼 순회중인 index)\n",
    "    # x번째 loop에서의 최소값을 가진 index를 저장할 변수\n",
    "    cur_min_index = x\n",
    "    for y in range(x,len(sample)):\n",
    "        # y: 내부 loop의 index (x부터 리스트 끝까지 순회중인 index)\n",
    "        # 만약 저장해 두었던 index에 해당하는 값보다 현재 값이 더 작다면\n",
    "        # cur_min_index값을 현재 index로 대체\n",
    "        if sample[cur_min_index] > sample[y]:\n",
    "            cur_min_index = y\n",
    "    print(f'{x}번째 loop, 현재 리스트 상황: {sample}')\n",
    "    print(f'{x}번째 loop의 최소 index는 {cur_min_index}, 값은: {sample[cur_min_index]}')\n",
    "    sample[cur_min_index], sample[x] = sample[x], sample[cur_min_index]\n",
    "    print(f'{x}번째 loop, 교체후 리스트 상황: {sample}')\n",
    "    print()\n",
    "    "
   ]
  },
  {
   "cell_type": "code",
   "execution_count": 48,
   "metadata": {},
   "outputs": [
    {
     "ename": "NameError",
     "evalue": "name 'len_list' is not defined",
     "output_type": "error",
     "traceback": [
      "\u001b[0;31m---------------------------------------------------------------------------\u001b[0m",
      "\u001b[0;31mNameError\u001b[0m                                 Traceback (most recent call last)",
      "\u001b[0;32m<ipython-input-48-2eeb20a12397>\u001b[0m in \u001b[0;36m<module>\u001b[0;34m()\u001b[0m\n\u001b[0;32m----> 1\u001b[0;31m \u001b[0;32mfor\u001b[0m \u001b[0mx\u001b[0m \u001b[0;32min\u001b[0m \u001b[0mrange\u001b[0m\u001b[0;34m(\u001b[0m\u001b[0mlen_list\u001b[0m \u001b[0;34m-\u001b[0m\u001b[0;36m1\u001b[0m\u001b[0;34m)\u001b[0m\u001b[0;34m:\u001b[0m\u001b[0;34m\u001b[0m\u001b[0m\n\u001b[0m\u001b[1;32m      2\u001b[0m     \u001b[0mcur_min_index\u001b[0m \u001b[0;34m=\u001b[0m \u001b[0mx\u001b[0m\u001b[0;34m\u001b[0m\u001b[0m\n\u001b[1;32m      3\u001b[0m     \u001b[0;32mfor\u001b[0m \u001b[0mindex\u001b[0m\u001b[0;34m,\u001b[0m \u001b[0mvalue\u001b[0m \u001b[0;32min\u001b[0m \u001b[0menumerate\u001b[0m\u001b[0;34m(\u001b[0m\u001b[0msample\u001b[0m\u001b[0;34m[\u001b[0m\u001b[0mx\u001b[0m\u001b[0;34m:\u001b[0m\u001b[0;34m]\u001b[0m\u001b[0;34m,\u001b[0m \u001b[0mstart\u001b[0m\u001b[0;34m=\u001b[0m\u001b[0mx\u001b[0m\u001b[0;34m)\u001b[0m\u001b[0;34m:\u001b[0m\u001b[0;34m\u001b[0m\u001b[0m\n\u001b[1;32m      4\u001b[0m         \u001b[0;32mif\u001b[0m \u001b[0mvalue\u001b[0m \u001b[0;34m<\u001b[0m \u001b[0msample\u001b[0m\u001b[0;34m[\u001b[0m\u001b[0mcur_min_index\u001b[0m\u001b[0;34m]\u001b[0m\u001b[0;34m:\u001b[0m\u001b[0;34m\u001b[0m\u001b[0m\n\u001b[1;32m      5\u001b[0m             \u001b[0mcur_min_index\u001b[0m \u001b[0;34m=\u001b[0m \u001b[0mindex\u001b[0m\u001b[0;34m\u001b[0m\u001b[0m\n",
      "\u001b[0;31mNameError\u001b[0m: name 'len_list' is not defined"
     ]
    }
   ],
   "source": [
    "for x in range(len_list -1):\n",
    "    cur_min_index = x\n",
    "    for index, value in enumerate(sample[x:], start=x):\n",
    "        if value < sample[cur_min_index]:\n",
    "            cur_min_index = index\n",
    "    sample[cur_min_index], sample[x] = sample[x], sample[cur_min_index]\n",
    "\n",
    "print(sample)"
   ]
  },
  {
   "cell_type": "code",
   "execution_count": null,
   "metadata": {},
   "outputs": [],
   "source": []
  }
 ],
 "metadata": {
  "kernelspec": {
   "display_name": "Python 3",
   "language": "python",
   "name": "python3"
  },
  "language_info": {
   "codemirror_mode": {
    "name": "ipython",
    "version": 3
   },
   "file_extension": ".py",
   "mimetype": "text/x-python",
   "name": "python",
   "nbconvert_exporter": "python",
   "pygments_lexer": "ipython3",
   "version": "3.6.6"
  }
 },
 "nbformat": 4,
 "nbformat_minor": 2
}
