{
 "cells": [
  {
   "cell_type": "code",
   "execution_count": 20,
   "metadata": {},
   "outputs": [],
   "source": [
    "is_holiday = False"
   ]
  },
  {
   "cell_type": "code",
   "execution_count": 21,
   "metadata": {},
   "outputs": [
    {
     "name": "stdout",
     "output_type": "stream",
     "text": [
      "Bad\n"
     ]
    }
   ],
   "source": [
    "if is_holiday:\n",
    "    print('Good')\n",
    "else:\n",
    "    print('Bad')"
   ]
  },
  {
   "cell_type": "code",
   "execution_count": 22,
   "metadata": {},
   "outputs": [
    {
     "name": "stdout",
     "output_type": "stream",
     "text": [
      "Bad\n"
     ]
    }
   ],
   "source": [
    "result = print('Good') if is_holiday else print('Bad')"
   ]
  },
  {
   "cell_type": "code",
   "execution_count": 23,
   "metadata": {},
   "outputs": [
    {
     "name": "stdout",
     "output_type": "stream",
     "text": [
      "None\n"
     ]
    }
   ],
   "source": [
    "print(result)"
   ]
  },
  {
   "cell_type": "code",
   "execution_count": 24,
   "metadata": {},
   "outputs": [
    {
     "name": "stdout",
     "output_type": "stream",
     "text": [
      "ABC\n"
     ]
    }
   ],
   "source": [
    "a= 'ABC'\n",
    "print(a)"
   ]
  },
  {
   "cell_type": "code",
   "execution_count": 25,
   "metadata": {},
   "outputs": [
    {
     "name": "stdout",
     "output_type": "stream",
     "text": [
      "ABC\n",
      "None\n"
     ]
    }
   ],
   "source": [
    "a= print('ABC')\n",
    "print(a)"
   ]
  },
  {
   "cell_type": "code",
   "execution_count": 26,
   "metadata": {},
   "outputs": [
    {
     "name": "stdout",
     "output_type": "stream",
     "text": [
      "Bad\n"
     ]
    }
   ],
   "source": [
    "result = 'Good' if is_holiday else 'Bad'\n",
    "print(result)"
   ]
  },
  {
   "cell_type": "code",
   "execution_count": 27,
   "metadata": {},
   "outputs": [
    {
     "name": "stdout",
     "output_type": "stream",
     "text": [
      "Good\n"
     ]
    }
   ],
   "source": [
    "is_holiday = True\n",
    "if is_holiday:\n",
    "    result = 'Good'\n",
    "else:\n",
    "    result = 'Bad'\n",
    "    \n",
    "print(result)"
   ]
  },
  {
   "cell_type": "code",
   "execution_count": 33,
   "metadata": {},
   "outputs": [
    {
     "name": "stdout",
     "output_type": "stream",
     "text": [
      "Bad\n"
     ]
    }
   ],
   "source": [
    "vacation = 2\n",
    "if vacation >= 7:\n",
    "    result = 'Good'\n",
    "elif vacation >= 5:\n",
    "    result = 'Normal'\n",
    "else:\n",
    "    result = 'Bad'\n",
    "    \n",
    "print(result)"
   ]
  },
  {
   "cell_type": "code",
   "execution_count": 36,
   "metadata": {},
   "outputs": [
    {
     "name": "stdout",
     "output_type": "stream",
     "text": [
      "Bad\n"
     ]
    }
   ],
   "source": [
    "result = 'Good' if vacation >=7 else 'Normal' if vacation >=5 else 'Bad'\n",
    "print(result)"
   ]
  },
  {
   "cell_type": "code",
   "execution_count": 38,
   "metadata": {},
   "outputs": [],
   "source": [
    "champion_dict = {\n",
    "    'Lux':'the Lady of l..',\n",
    "    'Ahri':'the Nine',\n",
    "    'Ezreal':'the Prodigal',\n",
    "    'Teemo':'the Swift',\n",
    "    'Sona':'Maven of the Strings'\n",
    "}"
   ]
  },
  {
   "cell_type": "code",
   "execution_count": 39,
   "metadata": {},
   "outputs": [
    {
     "name": "stdout",
     "output_type": "stream",
     "text": [
      "Lux\n",
      "Ahri\n",
      "Ezreal\n",
      "Teemo\n",
      "Sona\n"
     ]
    }
   ],
   "source": [
    "for item in champion_dict:\n",
    "    print(item)"
   ]
  },
  {
   "cell_type": "code",
   "execution_count": 41,
   "metadata": {},
   "outputs": [
    {
     "name": "stdout",
     "output_type": "stream",
     "text": [
      "('Lux', 'the Lady of l..')\n",
      "('Ahri', 'the Nine')\n",
      "('Ezreal', 'the Prodigal')\n",
      "('Teemo', 'the Swift')\n",
      "('Sona', 'Maven of the Strings')\n"
     ]
    }
   ],
   "source": [
    "for item in champion_dict.items():\n",
    "    print(item)"
   ]
  },
  {
   "cell_type": "code",
   "execution_count": 42,
   "metadata": {},
   "outputs": [],
   "source": [
    "sample = [\n",
    "    [1,2,3],\n",
    "    [4,5,6],\n",
    "    [7,8,9],\n",
    "]"
   ]
  },
  {
   "cell_type": "code",
   "execution_count": 44,
   "metadata": {},
   "outputs": [
    {
     "name": "stdout",
     "output_type": "stream",
     "text": [
      "1\n",
      "2\n",
      "3\n",
      "4\n",
      "5\n",
      "6\n",
      "7\n",
      "8\n",
      "9\n"
     ]
    }
   ],
   "source": [
    "for a in sample:\n",
    "    for x in a:\n",
    "        print(x)"
   ]
  },
  {
   "cell_type": "code",
   "execution_count": 47,
   "metadata": {},
   "outputs": [
    {
     "name": "stdout",
     "output_type": "stream",
     "text": [
      "[1, 2, 3]\n",
      "[7, 8, 9]\n"
     ]
    }
   ],
   "source": [
    "for item in sample:\n",
    "    if 5 in item:\n",
    "        continue\n",
    "    print(item)"
   ]
  },
  {
   "cell_type": "code",
   "execution_count": 60,
   "metadata": {},
   "outputs": [],
   "source": [
    "find = 8"
   ]
  },
  {
   "cell_type": "code",
   "execution_count": 61,
   "metadata": {},
   "outputs": [
    {
     "name": "stdout",
     "output_type": "stream",
     "text": [
      "8을/를 찾음!\n"
     ]
    }
   ],
   "source": [
    "for item in sample:\n",
    "    if find in item:\n",
    "        print(f'{find}을/를 찾음!')\n",
    "        break\n",
    "else:\n",
    "    print(f'{find}을/를 찾지못함 ㅠㅠ')"
   ]
  },
  {
   "cell_type": "code",
   "execution_count": 72,
   "metadata": {},
   "outputs": [
    {
     "name": "stdout",
     "output_type": "stream",
     "text": [
      "10을/를 찾지못함 ㅠㅠ\n"
     ]
    }
   ],
   "source": [
    "sample = [1,2,3,4,5,6,7,8,9]\n",
    "find = 10\n",
    "found = False\n",
    "\n",
    "for item in sample:\n",
    "    if find == item:\n",
    "        print(f'{find}을/를 찾음!!')\n",
    "        found = True\n",
    "        break\n",
    "\n",
    "if not found:\n",
    "    print(f'{find}을/를 찾지못함 ㅠㅠ')"
   ]
  },
  {
   "cell_type": "code",
   "execution_count": 97,
   "metadata": {},
   "outputs": [
    {
     "name": "stdout",
     "output_type": "stream",
     "text": [
      "fruit: apple color: red\n",
      "fruit: banana color: yellow\n",
      "fruit: melon color: green\n",
      "fruit: grapefruit color: purple\n"
     ]
    }
   ],
   "source": [
    "fruits = ['apple', 'banana', 'melon', 'grapefruit', 'orange']\n",
    "colors = ['red', 'yellow', 'green', 'purple']\n",
    "for fruit, color in zip(fruits, colors):\n",
    "    print('fruit:', fruit, 'color:', color)"
   ]
  },
  {
   "cell_type": "code",
   "execution_count": 98,
   "metadata": {},
   "outputs": [
    {
     "name": "stdout",
     "output_type": "stream",
     "text": [
      "fruit:apple color: red\n",
      "fruit:banana color: yellow\n",
      "fruit:melon color: green\n",
      "fruit:grapefruit color: purple\n"
     ]
    },
    {
     "ename": "IndexError",
     "evalue": "list index out of range",
     "output_type": "error",
     "traceback": [
      "\u001b[0;31m---------------------------------------------------------------------------\u001b[0m",
      "\u001b[0;31mIndexError\u001b[0m                                Traceback (most recent call last)",
      "\u001b[0;32m<ipython-input-98-8baf71ff2731>\u001b[0m in \u001b[0;36m<module>\u001b[0;34m()\u001b[0m\n\u001b[1;32m      1\u001b[0m \u001b[0mindex\u001b[0m \u001b[0;34m=\u001b[0m \u001b[0;36m0\u001b[0m\u001b[0;34m\u001b[0m\u001b[0m\n\u001b[1;32m      2\u001b[0m \u001b[0;32mfor\u001b[0m \u001b[0mfruit\u001b[0m \u001b[0;32min\u001b[0m \u001b[0mfruits\u001b[0m\u001b[0;34m:\u001b[0m\u001b[0;34m\u001b[0m\u001b[0m\n\u001b[0;32m----> 3\u001b[0;31m     \u001b[0mprint\u001b[0m\u001b[0;34m(\u001b[0m\u001b[0;34mf'fruit:{fruit}'\u001b[0m\u001b[0;34m,\u001b[0m \u001b[0;34m'color:'\u001b[0m\u001b[0;34m,\u001b[0m\u001b[0mcolors\u001b[0m\u001b[0;34m[\u001b[0m\u001b[0mindex\u001b[0m\u001b[0;34m]\u001b[0m\u001b[0;34m)\u001b[0m\u001b[0;34m\u001b[0m\u001b[0m\n\u001b[0m\u001b[1;32m      4\u001b[0m     \u001b[0mindex\u001b[0m \u001b[0;34m+=\u001b[0m\u001b[0;36m1\u001b[0m\u001b[0;34m\u001b[0m\u001b[0m\n",
      "\u001b[0;31mIndexError\u001b[0m: list index out of range"
     ]
    }
   ],
   "source": [
    "index = 0\n",
    "for fruit in fruits:\n",
    "    print(f'fruit:{fruit}', 'color:',colors[index])\n",
    "    index +=1"
   ]
  },
  {
   "cell_type": "code",
   "execution_count": 100,
   "metadata": {},
   "outputs": [
    {
     "name": "stdout",
     "output_type": "stream",
     "text": [
      "0 apple\n",
      "1 banana\n",
      "2 melon\n",
      "3 grapefruit\n",
      "4 orange\n",
      "0 apple\n",
      "1 banana\n",
      "2 melon\n",
      "3 grapefruit\n",
      "4 orange\n"
     ]
    }
   ],
   "source": [
    "# (index, <object>)\n",
    "# fruits가 더 길어도 오류가 나지 않도록\n",
    "# 1. 순회하는 iterable객체를 바꾸기(더 긴 걸로)\n",
    "# 2. 순회중인 반대쪽 리스트의 index를 넘어가는 경우에 대한 처리\n",
    "\n",
    "for index, fruit in enumerate(fruits):\n",
    "    print(index,fruit)\n",
    "    \n",
    "for item in enumerate(fruits):\n",
    "    print(item[0], item[1])"
   ]
  },
  {
   "cell_type": "code",
   "execution_count": 101,
   "metadata": {},
   "outputs": [
    {
     "name": "stdout",
     "output_type": "stream",
     "text": [
      "red apple\n",
      "yellow banana\n",
      "green melon\n",
      "purple grapefruit\n"
     ]
    }
   ],
   "source": [
    "# 1. 순회하는 iterable객체를 바꾸기(더 긴 걸로)\n",
    "# 2. 순회중인 반대쪽 리스트의 index를 넘어가는 경우에 대한 처리\n",
    "short_list = fruits\n",
    "long_list = colors\n",
    "\n",
    "if len(fruits)> len(colors):\n",
    "    short_list = colors\n",
    "    long_list = fruits\n",
    "    \n",
    "# 조건표현식\n",
    "# 튜플언패킹\n",
    "\n",
    "(colorsif len(fruits) > len(colors)\n",
    "\n",
    "for index, item in enumerate(short_list):\n",
    "    print(item, long_list[index])"
   ]
  },
  {
   "cell_type": "code",
   "execution_count": 93,
   "metadata": {},
   "outputs": [
    {
     "name": "stdout",
     "output_type": "stream",
     "text": [
      "apple\n",
      "banana\n",
      "melon\n",
      "(0, 'apple')\n",
      "(1, 'banana')\n",
      "(2, 'melon')\n"
     ]
    }
   ],
   "source": [
    "for fruit in fruits:\n",
    "    print(fruit)\n",
    "    \n",
    "for item in enumerate(fruits):\n",
    "    print(item)"
   ]
  },
  {
   "cell_type": "code",
   "execution_count": 95,
   "metadata": {},
   "outputs": [
    {
     "name": "stdout",
     "output_type": "stream",
     "text": [
      "0 apple\n",
      "1 banana\n",
      "2 melon\n"
     ]
    }
   ],
   "source": []
  },
  {
   "cell_type": "code",
   "execution_count": 21,
   "metadata": {},
   "outputs": [
    {
     "name": "stdout",
     "output_type": "stream",
     "text": [
      "2단\n",
      "2x1 = 2\n",
      "2x2 = 4\n",
      "2x3 = 6\n",
      "2x4 = 8\n",
      "2x5 = 10\n",
      "2x6 = 12\n",
      "2x7 = 14\n",
      "2x8 = 16\n",
      "2x9 = 18\n",
      "3단\n",
      "3x1 = 3\n",
      "3x2 = 6\n",
      "3x3 = 9\n",
      "3x4 = 12\n",
      "3x5 = 15\n",
      "3x6 = 18\n",
      "3x7 = 21\n",
      "3x8 = 24\n",
      "3x9 = 27\n",
      "4단\n",
      "4x1 = 4\n",
      "4x2 = 8\n",
      "4x3 = 12\n",
      "4x4 = 16\n",
      "4x5 = 20\n",
      "4x6 = 24\n",
      "4x7 = 28\n",
      "4x8 = 32\n",
      "4x9 = 36\n",
      "5단\n",
      "5x1 = 5\n",
      "5x2 = 10\n",
      "5x3 = 15\n",
      "5x4 = 20\n",
      "5x5 = 25\n",
      "5x6 = 30\n",
      "5x7 = 35\n",
      "5x8 = 40\n",
      "5x9 = 45\n",
      "6단\n",
      "6x1 = 6\n",
      "6x2 = 12\n",
      "6x3 = 18\n",
      "6x4 = 24\n",
      "6x5 = 30\n",
      "6x6 = 36\n",
      "6x7 = 42\n",
      "6x8 = 48\n",
      "6x9 = 54\n",
      "7단\n",
      "7x1 = 7\n",
      "7x2 = 14\n",
      "7x3 = 21\n",
      "7x4 = 28\n",
      "7x5 = 35\n",
      "7x6 = 42\n",
      "7x7 = 49\n",
      "7x8 = 56\n",
      "7x9 = 63\n",
      "8단\n",
      "8x1 = 8\n",
      "8x2 = 16\n",
      "8x3 = 24\n",
      "8x4 = 32\n",
      "8x5 = 40\n",
      "8x6 = 48\n",
      "8x7 = 56\n",
      "8x8 = 64\n",
      "8x9 = 72\n",
      "9단\n",
      "9x1 = 9\n",
      "9x2 = 18\n",
      "9x3 = 27\n",
      "9x4 = 36\n",
      "9x5 = 45\n",
      "9x6 = 54\n",
      "9x7 = 63\n",
      "9x8 = 72\n",
      "9x9 = 81\n"
     ]
    }
   ],
   "source": [
    "# 구구단\n",
    "\n",
    "for x in range(2,10):\n",
    "    print(f'{x}단')\n",
    "    for y in range(1,10):\n",
    "        print(f'{x}x{y} = {x*y}')"
   ]
  },
  {
   "cell_type": "code",
   "execution_count": 27,
   "metadata": {},
   "outputs": [
    {
     "ename": "ValueError",
     "evalue": "dictionary update sequence element #0 has length 1; 2 is required",
     "output_type": "error",
     "traceback": [
      "\u001b[0;31m---------------------------------------------------------------------------\u001b[0m",
      "\u001b[0;31mValueError\u001b[0m                                Traceback (most recent call last)",
      "\u001b[0;32m<ipython-input-27-6142b66a886c>\u001b[0m in \u001b[0;36m<module>\u001b[0;34m()\u001b[0m\n\u001b[1;32m      3\u001b[0m     \u001b[0;32mfor\u001b[0m \u001b[0my\u001b[0m \u001b[0;32min\u001b[0m \u001b[0mrange\u001b[0m\u001b[0;34m(\u001b[0m\u001b[0;36m1\u001b[0m\u001b[0;34m,\u001b[0m\u001b[0;36m10\u001b[0m\u001b[0;34m)\u001b[0m\u001b[0;34m:\u001b[0m\u001b[0;34m\u001b[0m\u001b[0m\n\u001b[1;32m      4\u001b[0m         \u001b[0mmulti\u001b[0m \u001b[0;34m=\u001b[0m \u001b[0;34m(\u001b[0m\u001b[0;34mf'{x}x{y} = {x*y}'\u001b[0m\u001b[0;34m)\u001b[0m\u001b[0;34m\u001b[0m\u001b[0m\n\u001b[0;32m----> 5\u001b[0;31m         \u001b[0mdict\u001b[0m\u001b[0;34m(\u001b[0m\u001b[0mdan\u001b[0m\u001b[0;34m)\u001b[0m\u001b[0;34m\u001b[0m\u001b[0m\n\u001b[0m",
      "\u001b[0;31mValueError\u001b[0m: dictionary update sequence element #0 has length 1; 2 is required"
     ]
    }
   ],
   "source": [
    "for x in range(2,10):\n",
    "    dan = (f'{x}단')\n",
    "    for y in range(1,10):\n",
    "        multi = (f'{x}x{y} = {x*y}')\n",
    "        dict(dan)"
   ]
  },
  {
   "cell_type": "code",
   "execution_count": 31,
   "metadata": {},
   "outputs": [
    {
     "name": "stdout",
     "output_type": "stream",
     "text": [
      "1\n",
      "2\n",
      "3\n",
      "4\n",
      "5\n",
      "6\n",
      "7\n",
      "8\n",
      "9\n"
     ]
    },
    {
     "ename": "TypeError",
     "evalue": "'int' object is not iterable",
     "output_type": "error",
     "traceback": [
      "\u001b[0;31m---------------------------------------------------------------------------\u001b[0m",
      "\u001b[0;31mTypeError\u001b[0m                                 Traceback (most recent call last)",
      "\u001b[0;32m<ipython-input-31-0417942cdcff>\u001b[0m in \u001b[0;36m<module>\u001b[0;34m()\u001b[0m\n\u001b[1;32m      1\u001b[0m \u001b[0;32mfor\u001b[0m \u001b[0mx\u001b[0m \u001b[0;32min\u001b[0m \u001b[0mrange\u001b[0m\u001b[0;34m(\u001b[0m\u001b[0;36m1\u001b[0m\u001b[0;34m,\u001b[0m\u001b[0;36m10\u001b[0m\u001b[0;34m)\u001b[0m\u001b[0;34m:\u001b[0m\u001b[0;34m\u001b[0m\u001b[0m\n\u001b[1;32m      2\u001b[0m     \u001b[0mprint\u001b[0m\u001b[0;34m(\u001b[0m\u001b[0mx\u001b[0m\u001b[0;34m)\u001b[0m\u001b[0;34m\u001b[0m\u001b[0m\n\u001b[0;32m----> 3\u001b[0;31m \u001b[0mdict\u001b[0m\u001b[0;34m(\u001b[0m\u001b[0mx\u001b[0m\u001b[0;34m)\u001b[0m\u001b[0;34m\u001b[0m\u001b[0m\n\u001b[0m",
      "\u001b[0;31mTypeError\u001b[0m: 'int' object is not iterable"
     ]
    }
   ],
   "source": []
  },
  {
   "cell_type": "code",
   "execution_count": 32,
   "metadata": {},
   "outputs": [],
   "source": [
    "girlsday_members = ['민아','혜리','유라','소진']"
   ]
  },
  {
   "cell_type": "code",
   "execution_count": 45,
   "metadata": {},
   "outputs": [],
   "source": [
    "fruit_dict = {\n",
    "    'red':'apple',\n",
    "    'yellow':'banana',\n",
    "    'green':'melon',\n",
    "}"
   ]
  },
  {
   "cell_type": "markdown",
   "metadata": {},
   "source": [
    "### 2. fruit_dict객체를 사용해서 아래와 같은 결과값을 갖는 문자열을 만들어 fruit_info변수에 할당 한 후, 콘솔에 내용을 출력하시오. [10점]¶\n"
   ]
  },
  {
   "cell_type": "markdown",
   "metadata": {},
   "source": [
    "결과 문자열\n",
    "\n",
    "[0] RED: Apple\n",
    "\n",
    "[1] YELLOW: Banana\n",
    "\n",
    "[2] GREEN: Melon\n",
    "\n",
    "어렵다면 아래 형태를 만든다\n",
    "\n",
    "red: apple\n",
    "yellow: banana\n",
    "green: melon"
   ]
  },
  {
   "cell_type": "code",
   "execution_count": 44,
   "metadata": {},
   "outputs": [
    {
     "name": "stdout",
     "output_type": "stream",
     "text": [
      "[0] RED: Apple\n",
      "[1] YELLOW: Banana\n",
      "[2] GREEN: Melon\n"
     ]
    }
   ],
   "source": [
    "for index, (k,v) in enumerate(fruit_dict.items()):\n",
    "    print(f'[{index}] {k.upper()}: {v.capitalize()}')"
   ]
  },
  {
   "cell_type": "code",
   "execution_count": null,
   "metadata": {},
   "outputs": [],
   "source": [
    "for x in range"
   ]
  }
 ],
 "metadata": {
  "kernelspec": {
   "display_name": "Python 3",
   "language": "python",
   "name": "python3"
  },
  "language_info": {
   "codemirror_mode": {
    "name": "ipython",
    "version": 3
   },
   "file_extension": ".py",
   "mimetype": "text/x-python",
   "name": "python",
   "nbconvert_exporter": "python",
   "pygments_lexer": "ipython3",
   "version": "3.6.6"
  }
 },
 "nbformat": 4,
 "nbformat_minor": 2
}
