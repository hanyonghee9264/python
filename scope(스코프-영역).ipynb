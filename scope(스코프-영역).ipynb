{
 "cells": [
  {
   "cell_type": "code",
   "execution_count": 1,
   "metadata": {},
   "outputs": [
    {
     "name": "stdout",
     "output_type": "stream",
     "text": [
      "show_global_champion: Lux\n",
      "print champion: Lux\n"
     ]
    }
   ],
   "source": [
    "champion = 'Lux'\n",
    "\n",
    "def show_global_champion():\n",
    "    print(f'show_global_champion: {champion}')\n",
    "    \n",
    "show_global_champion()\n",
    "print(f'print champion: {champion}')"
   ]
  },
  {
   "cell_type": "code",
   "execution_count": 9,
   "metadata": {},
   "outputs": [
    {
     "name": "stdout",
     "output_type": "stream",
     "text": [
      "show_global id:139955402299688\n",
      "show_global_champion: Lux\n",
      "after change_global: Ahri\n",
      "print champion: Lux\n"
     ]
    }
   ],
   "source": [
    "champion = 'Lux'\n",
    "\n",
    "def show_global_champion():\n",
    "    print(f'show_global id:{id(champion)}')\n",
    "    print(f'show_global_champion: {champion}')\n",
    "\n",
    "def change_global_champion():\n",
    "#     print(f'before change_global: {champion}')\n",
    "    champion = 'Ahri'\n",
    "    print(f'after change_global: {champion}')\n",
    "    \n",
    "show_global_champion()\n",
    "change_global_champion()\n",
    "print(f'print champion: {champion}')"
   ]
  },
  {
   "cell_type": "code",
   "execution_count": 10,
   "metadata": {},
   "outputs": [
    {
     "data": {
      "text/plain": [
       "<module 'builtins' (built-in)>"
      ]
     },
     "execution_count": 10,
     "metadata": {},
     "output_type": "execute_result"
    }
   ],
   "source": [
    "__builtin__"
   ]
  },
  {
   "cell_type": "code",
   "execution_count": 11,
   "metadata": {},
   "outputs": [
    {
     "data": {
      "text/plain": [
       "{'__name__': '__main__',\n",
       " '__doc__': 'Automatically created module for IPython interactive environment',\n",
       " '__package__': None,\n",
       " '__loader__': None,\n",
       " '__spec__': None,\n",
       " '__builtin__': <module 'builtins' (built-in)>,\n",
       " '__builtins__': <module 'builtins' (built-in)>,\n",
       " '_ih': ['',\n",
       "  \"champion = 'Lux'\\n\\ndef show_global_champion():\\n    print(f'show_global_champion: {champion}')\\n    \\nshow_global_champion()\\nprint(f'print champion: {champion}')\",\n",
       "  \"champion = 'Lux'\\n\\ndef show_global_champion():\\n    print(f'show_global_champion: {champion}')\\n\\ndef change_global_champion():\\n    print(f'before change_global: {champion}')\\n    champion = 'Ahri'\\n    print(f'after change_global: {champion}')\\n    \\nshow_global_champion()\\nprint(f'print champion: {champion}')\",\n",
       "  \"champion = 'Lux'\\n\\ndef show_global_champion():\\n    print(f'show_global_champion: {champion}')\\n\\ndef change_global_champion():\\n    print(f'before change_global: {champion}')\\n    champion = 'Ahri'\\n    print(f'after change_global: {champion}')\\n    \\nshow_global_champion()\\nchange_global_champion()\\nprint(f'print champion: {champion}')\",\n",
       "  \"champion = 'Lux'\\n\\ndef show_global_champion():\\n    print(f'show_global_champion: {champion}')\\n\\ndef change_global_champion():\\n    champion = 'Ahri'\\n    print(f'before change_global: {champion}')\\n    \\n    print(f'after change_global: {champion}')\\n    \\nshow_global_champion()\\nchange_global_champion()\\nprint(f'print champion: {champion}')\",\n",
       "  \"champion = 'Lux'\\n\\ndef show_global_champion():\\n    print(f'show_global_champion: {champion}')\\n\\ndef change_global_champion():\\n    print(f'before change_global: {champion}')\\n    champion = 'Ahri'\\n    print(f'after change_global: {champion}')\\n    \\nshow_global_champion()\\nchange_global_champion()\\nprint(f'print champion: {champion}')\",\n",
       "  \"champion = 'Lux'\\n\\ndef show_global_champion():\\n    print(f'show_global_champion: {champion}')\\n\\ndef change_global_champion():\\n#     print(f'before change_global: {champion}')\\n    champion = 'Ahri'\\n    print(f'after change_global: {champion}')\\n    \\nshow_global_champion()\\nchange_global_champion()\\nprint(f'print champion: {champion}')\",\n",
       "  \"champion = 'Lux'\\n\\ndef show_global_champion():\\n    print(f'show_global id:{id(champion)})\\n    print(f'show_global_champion: {champion}')\\n\\ndef change_global_champion():\\n#     print(f'before change_global: {champion}')\\n    champion = 'Ahri'\\n    print(f'after change_global: {champion}')\\n    \\nshow_global_champion()\\nchange_global_champion()\\nprint(f'print champion: {champion}')\",\n",
       "  \"champion = 'Lux'\\n\\ndef show_global_champion():\\n    print(f'show_global id:{id(champion)})\\n    print(f'show_global_champion: {champion}')\\n\\ndef change_global_champion():\\n#     print(f'before change_global: {champion}')\\n    champion = 'Ahri'\\n    print(f'after change_global: {champion}')\\n    \\nshow_global_champion()\\nchange_global_champion()\\nprint(f'print champion: {champion}')\",\n",
       "  \"champion = 'Lux'\\n\\ndef show_global_champion():\\n    print(f'show_global id:{id(champion)}')\\n    print(f'show_global_champion: {champion}')\\n\\ndef change_global_champion():\\n#     print(f'before change_global: {champion}')\\n    champion = 'Ahri'\\n    print(f'after change_global: {champion}')\\n    \\nshow_global_champion()\\nchange_global_champion()\\nprint(f'print champion: {champion}')\",\n",
       "  '__builtin__',\n",
       "  'locals()'],\n",
       " '_oh': {10: <module 'builtins' (built-in)>},\n",
       " '_dh': ['/home/hanyonghee/projects/python'],\n",
       " 'In': ['',\n",
       "  \"champion = 'Lux'\\n\\ndef show_global_champion():\\n    print(f'show_global_champion: {champion}')\\n    \\nshow_global_champion()\\nprint(f'print champion: {champion}')\",\n",
       "  \"champion = 'Lux'\\n\\ndef show_global_champion():\\n    print(f'show_global_champion: {champion}')\\n\\ndef change_global_champion():\\n    print(f'before change_global: {champion}')\\n    champion = 'Ahri'\\n    print(f'after change_global: {champion}')\\n    \\nshow_global_champion()\\nprint(f'print champion: {champion}')\",\n",
       "  \"champion = 'Lux'\\n\\ndef show_global_champion():\\n    print(f'show_global_champion: {champion}')\\n\\ndef change_global_champion():\\n    print(f'before change_global: {champion}')\\n    champion = 'Ahri'\\n    print(f'after change_global: {champion}')\\n    \\nshow_global_champion()\\nchange_global_champion()\\nprint(f'print champion: {champion}')\",\n",
       "  \"champion = 'Lux'\\n\\ndef show_global_champion():\\n    print(f'show_global_champion: {champion}')\\n\\ndef change_global_champion():\\n    champion = 'Ahri'\\n    print(f'before change_global: {champion}')\\n    \\n    print(f'after change_global: {champion}')\\n    \\nshow_global_champion()\\nchange_global_champion()\\nprint(f'print champion: {champion}')\",\n",
       "  \"champion = 'Lux'\\n\\ndef show_global_champion():\\n    print(f'show_global_champion: {champion}')\\n\\ndef change_global_champion():\\n    print(f'before change_global: {champion}')\\n    champion = 'Ahri'\\n    print(f'after change_global: {champion}')\\n    \\nshow_global_champion()\\nchange_global_champion()\\nprint(f'print champion: {champion}')\",\n",
       "  \"champion = 'Lux'\\n\\ndef show_global_champion():\\n    print(f'show_global_champion: {champion}')\\n\\ndef change_global_champion():\\n#     print(f'before change_global: {champion}')\\n    champion = 'Ahri'\\n    print(f'after change_global: {champion}')\\n    \\nshow_global_champion()\\nchange_global_champion()\\nprint(f'print champion: {champion}')\",\n",
       "  \"champion = 'Lux'\\n\\ndef show_global_champion():\\n    print(f'show_global id:{id(champion)})\\n    print(f'show_global_champion: {champion}')\\n\\ndef change_global_champion():\\n#     print(f'before change_global: {champion}')\\n    champion = 'Ahri'\\n    print(f'after change_global: {champion}')\\n    \\nshow_global_champion()\\nchange_global_champion()\\nprint(f'print champion: {champion}')\",\n",
       "  \"champion = 'Lux'\\n\\ndef show_global_champion():\\n    print(f'show_global id:{id(champion)})\\n    print(f'show_global_champion: {champion}')\\n\\ndef change_global_champion():\\n#     print(f'before change_global: {champion}')\\n    champion = 'Ahri'\\n    print(f'after change_global: {champion}')\\n    \\nshow_global_champion()\\nchange_global_champion()\\nprint(f'print champion: {champion}')\",\n",
       "  \"champion = 'Lux'\\n\\ndef show_global_champion():\\n    print(f'show_global id:{id(champion)}')\\n    print(f'show_global_champion: {champion}')\\n\\ndef change_global_champion():\\n#     print(f'before change_global: {champion}')\\n    champion = 'Ahri'\\n    print(f'after change_global: {champion}')\\n    \\nshow_global_champion()\\nchange_global_champion()\\nprint(f'print champion: {champion}')\",\n",
       "  '__builtin__',\n",
       "  'locals()'],\n",
       " 'Out': {10: <module 'builtins' (built-in)>},\n",
       " 'get_ipython': <bound method InteractiveShell.get_ipython of <ipykernel.zmqshell.ZMQInteractiveShell object at 0x7f49ea192e10>>,\n",
       " 'exit': <IPython.core.autocall.ZMQExitAutocall at 0x7f49e80f6358>,\n",
       " 'quit': <IPython.core.autocall.ZMQExitAutocall at 0x7f49e80f6358>,\n",
       " '_': <module 'builtins' (built-in)>,\n",
       " '__': '',\n",
       " '___': '',\n",
       " '_i': '__builtin__',\n",
       " '_ii': \"champion = 'Lux'\\n\\ndef show_global_champion():\\n    print(f'show_global id:{id(champion)}')\\n    print(f'show_global_champion: {champion}')\\n\\ndef change_global_champion():\\n#     print(f'before change_global: {champion}')\\n    champion = 'Ahri'\\n    print(f'after change_global: {champion}')\\n    \\nshow_global_champion()\\nchange_global_champion()\\nprint(f'print champion: {champion}')\",\n",
       " '_iii': \"champion = 'Lux'\\n\\ndef show_global_champion():\\n    print(f'show_global id:{id(champion)})\\n    print(f'show_global_champion: {champion}')\\n\\ndef change_global_champion():\\n#     print(f'before change_global: {champion}')\\n    champion = 'Ahri'\\n    print(f'after change_global: {champion}')\\n    \\nshow_global_champion()\\nchange_global_champion()\\nprint(f'print champion: {champion}')\",\n",
       " '_i1': \"champion = 'Lux'\\n\\ndef show_global_champion():\\n    print(f'show_global_champion: {champion}')\\n    \\nshow_global_champion()\\nprint(f'print champion: {champion}')\",\n",
       " 'champion': 'Lux',\n",
       " 'show_global_champion': <function __main__.show_global_champion()>,\n",
       " '_i2': \"champion = 'Lux'\\n\\ndef show_global_champion():\\n    print(f'show_global_champion: {champion}')\\n\\ndef change_global_champion():\\n    print(f'before change_global: {champion}')\\n    champion = 'Ahri'\\n    print(f'after change_global: {champion}')\\n    \\nshow_global_champion()\\nprint(f'print champion: {champion}')\",\n",
       " 'change_global_champion': <function __main__.change_global_champion()>,\n",
       " '_i3': \"champion = 'Lux'\\n\\ndef show_global_champion():\\n    print(f'show_global_champion: {champion}')\\n\\ndef change_global_champion():\\n    print(f'before change_global: {champion}')\\n    champion = 'Ahri'\\n    print(f'after change_global: {champion}')\\n    \\nshow_global_champion()\\nchange_global_champion()\\nprint(f'print champion: {champion}')\",\n",
       " '_i4': \"champion = 'Lux'\\n\\ndef show_global_champion():\\n    print(f'show_global_champion: {champion}')\\n\\ndef change_global_champion():\\n    champion = 'Ahri'\\n    print(f'before change_global: {champion}')\\n    \\n    print(f'after change_global: {champion}')\\n    \\nshow_global_champion()\\nchange_global_champion()\\nprint(f'print champion: {champion}')\",\n",
       " '_i5': \"champion = 'Lux'\\n\\ndef show_global_champion():\\n    print(f'show_global_champion: {champion}')\\n\\ndef change_global_champion():\\n    print(f'before change_global: {champion}')\\n    champion = 'Ahri'\\n    print(f'after change_global: {champion}')\\n    \\nshow_global_champion()\\nchange_global_champion()\\nprint(f'print champion: {champion}')\",\n",
       " '_i6': \"champion = 'Lux'\\n\\ndef show_global_champion():\\n    print(f'show_global_champion: {champion}')\\n\\ndef change_global_champion():\\n#     print(f'before change_global: {champion}')\\n    champion = 'Ahri'\\n    print(f'after change_global: {champion}')\\n    \\nshow_global_champion()\\nchange_global_champion()\\nprint(f'print champion: {champion}')\",\n",
       " '_i7': \"champion = 'Lux'\\n\\ndef show_global_champion():\\n    print(f'show_global id:{id(champion)})\\n    print(f'show_global_champion: {champion}')\\n\\ndef change_global_champion():\\n#     print(f'before change_global: {champion}')\\n    champion = 'Ahri'\\n    print(f'after change_global: {champion}')\\n    \\nshow_global_champion()\\nchange_global_champion()\\nprint(f'print champion: {champion}')\",\n",
       " '_i8': \"champion = 'Lux'\\n\\ndef show_global_champion():\\n    print(f'show_global id:{id(champion)})\\n    print(f'show_global_champion: {champion}')\\n\\ndef change_global_champion():\\n#     print(f'before change_global: {champion}')\\n    champion = 'Ahri'\\n    print(f'after change_global: {champion}')\\n    \\nshow_global_champion()\\nchange_global_champion()\\nprint(f'print champion: {champion}')\",\n",
       " '_i9': \"champion = 'Lux'\\n\\ndef show_global_champion():\\n    print(f'show_global id:{id(champion)}')\\n    print(f'show_global_champion: {champion}')\\n\\ndef change_global_champion():\\n#     print(f'before change_global: {champion}')\\n    champion = 'Ahri'\\n    print(f'after change_global: {champion}')\\n    \\nshow_global_champion()\\nchange_global_champion()\\nprint(f'print champion: {champion}')\",\n",
       " '_i10': '__builtin__',\n",
       " '_10': <module 'builtins' (built-in)>,\n",
       " '_i11': 'locals()'}"
      ]
     },
     "execution_count": 11,
     "metadata": {},
     "output_type": "execute_result"
    }
   ],
   "source": [
    "locals()"
   ]
  },
  {
   "cell_type": "code",
   "execution_count": 12,
   "metadata": {},
   "outputs": [
    {
     "data": {
      "text/plain": [
       "['ArithmeticError',\n",
       " 'AssertionError',\n",
       " 'AttributeError',\n",
       " 'BaseException',\n",
       " 'BlockingIOError',\n",
       " 'BrokenPipeError',\n",
       " 'BufferError',\n",
       " 'BytesWarning',\n",
       " 'ChildProcessError',\n",
       " 'ConnectionAbortedError',\n",
       " 'ConnectionError',\n",
       " 'ConnectionRefusedError',\n",
       " 'ConnectionResetError',\n",
       " 'DeprecationWarning',\n",
       " 'EOFError',\n",
       " 'Ellipsis',\n",
       " 'EnvironmentError',\n",
       " 'Exception',\n",
       " 'False',\n",
       " 'FileExistsError',\n",
       " 'FileNotFoundError',\n",
       " 'FloatingPointError',\n",
       " 'FutureWarning',\n",
       " 'GeneratorExit',\n",
       " 'IOError',\n",
       " 'ImportError',\n",
       " 'ImportWarning',\n",
       " 'IndentationError',\n",
       " 'IndexError',\n",
       " 'InterruptedError',\n",
       " 'IsADirectoryError',\n",
       " 'KeyError',\n",
       " 'KeyboardInterrupt',\n",
       " 'LookupError',\n",
       " 'MemoryError',\n",
       " 'ModuleNotFoundError',\n",
       " 'NameError',\n",
       " 'None',\n",
       " 'NotADirectoryError',\n",
       " 'NotImplemented',\n",
       " 'NotImplementedError',\n",
       " 'OSError',\n",
       " 'OverflowError',\n",
       " 'PendingDeprecationWarning',\n",
       " 'PermissionError',\n",
       " 'ProcessLookupError',\n",
       " 'RecursionError',\n",
       " 'ReferenceError',\n",
       " 'ResourceWarning',\n",
       " 'RuntimeError',\n",
       " 'RuntimeWarning',\n",
       " 'StopAsyncIteration',\n",
       " 'StopIteration',\n",
       " 'SyntaxError',\n",
       " 'SyntaxWarning',\n",
       " 'SystemError',\n",
       " 'SystemExit',\n",
       " 'TabError',\n",
       " 'TimeoutError',\n",
       " 'True',\n",
       " 'TypeError',\n",
       " 'UnboundLocalError',\n",
       " 'UnicodeDecodeError',\n",
       " 'UnicodeEncodeError',\n",
       " 'UnicodeError',\n",
       " 'UnicodeTranslateError',\n",
       " 'UnicodeWarning',\n",
       " 'UserWarning',\n",
       " 'ValueError',\n",
       " 'Warning',\n",
       " 'ZeroDivisionError',\n",
       " '__IPYTHON__',\n",
       " '__build_class__',\n",
       " '__debug__',\n",
       " '__doc__',\n",
       " '__import__',\n",
       " '__loader__',\n",
       " '__name__',\n",
       " '__package__',\n",
       " '__spec__',\n",
       " 'abs',\n",
       " 'all',\n",
       " 'any',\n",
       " 'ascii',\n",
       " 'bin',\n",
       " 'bool',\n",
       " 'bytearray',\n",
       " 'bytes',\n",
       " 'callable',\n",
       " 'chr',\n",
       " 'classmethod',\n",
       " 'compile',\n",
       " 'complex',\n",
       " 'copyright',\n",
       " 'credits',\n",
       " 'delattr',\n",
       " 'dict',\n",
       " 'dir',\n",
       " 'display',\n",
       " 'divmod',\n",
       " 'enumerate',\n",
       " 'eval',\n",
       " 'exec',\n",
       " 'filter',\n",
       " 'float',\n",
       " 'format',\n",
       " 'frozenset',\n",
       " 'get_ipython',\n",
       " 'getattr',\n",
       " 'globals',\n",
       " 'hasattr',\n",
       " 'hash',\n",
       " 'help',\n",
       " 'hex',\n",
       " 'id',\n",
       " 'input',\n",
       " 'int',\n",
       " 'isinstance',\n",
       " 'issubclass',\n",
       " 'iter',\n",
       " 'len',\n",
       " 'license',\n",
       " 'list',\n",
       " 'locals',\n",
       " 'map',\n",
       " 'max',\n",
       " 'memoryview',\n",
       " 'min',\n",
       " 'next',\n",
       " 'object',\n",
       " 'oct',\n",
       " 'open',\n",
       " 'ord',\n",
       " 'pow',\n",
       " 'print',\n",
       " 'property',\n",
       " 'range',\n",
       " 'repr',\n",
       " 'reversed',\n",
       " 'round',\n",
       " 'set',\n",
       " 'setattr',\n",
       " 'slice',\n",
       " 'sorted',\n",
       " 'staticmethod',\n",
       " 'str',\n",
       " 'sum',\n",
       " 'super',\n",
       " 'tuple',\n",
       " 'type',\n",
       " 'vars',\n",
       " 'zip']"
      ]
     },
     "execution_count": 12,
     "metadata": {},
     "output_type": "execute_result"
    }
   ],
   "source": [
    "dir(__builtin__)"
   ]
  },
  {
   "cell_type": "code",
   "execution_count": 14,
   "metadata": {},
   "outputs": [
    {
     "name": "stdout",
     "output_type": "stream",
     "text": [
      "print global: Ahri\n"
     ]
    }
   ],
   "source": [
    "champion = 'Lux'\n",
    "def change_global_champion():\n",
    "    global champion\n",
    "    champion = 'Ahri'\n",
    "    \n",
    "change_global_champion()\n",
    "print(f'print global: {champion}')"
   ]
  },
  {
   "cell_type": "code",
   "execution_count": 18,
   "metadata": {},
   "outputs": [
    {
     "name": "stdout",
     "output_type": "stream",
     "text": [
      "global champion: Lux\n",
      "local1 locals():{'local2': <function local1.<locals>.local2 at 0x7f49e8034ae8>, 'champion': 'Ahri'}\n"
     ]
    }
   ],
   "source": [
    "champion = 'Lux'\n",
    "\n",
    "def local1():\n",
    "    champion = 'Ahri'\n",
    "    \n",
    "    def local2():\n",
    "        champion = 'Ezreal'\n",
    "        print(f'local2 locals():{locals()}')\n",
    "    print(f'local1 locals():{locals()}')\n",
    "    \n",
    "print(f'global champion: {champion}')\n",
    "local1()"
   ]
  },
  {
   "cell_type": "code",
   "execution_count": 19,
   "metadata": {},
   "outputs": [
    {
     "name": "stdout",
     "output_type": "stream",
     "text": [
      "130\n",
      "100\n"
     ]
    }
   ],
   "source": [
    "global_level = 100\n",
    "\n",
    "def level_add(value):\n",
    "    value += 30\n",
    "    print(value)\n",
    "    \n",
    "level_add(global_level)\n",
    "print(global_level)"
   ]
  },
  {
   "cell_type": "code",
   "execution_count": 20,
   "metadata": {},
   "outputs": [
    {
     "name": "stdout",
     "output_type": "stream",
     "text": [
      "130\n",
      "130\n"
     ]
    }
   ],
   "source": [
    "global_level = 100\n",
    "def level_add():\n",
    "    global global_level\n",
    "    global_level += 30\n",
    "    print(global_level)\n",
    "    \n",
    "level_add()\n",
    "print(global_level)"
   ]
  },
  {
   "cell_type": "code",
   "execution_count": 22,
   "metadata": {},
   "outputs": [
    {
     "name": "stdout",
     "output_type": "stream",
     "text": [
      "[]\n",
      "['a']\n",
      "['a']\n"
     ]
    }
   ],
   "source": [
    "global_list = []\n",
    "\n",
    "def list_add(value):\n",
    "    value.append('a')\n",
    "    print(value)\n",
    "\n",
    "print(global_list)\n",
    "list_add(global_list)\n",
    "print(global_list)"
   ]
  },
  {
   "cell_type": "code",
   "execution_count": 23,
   "metadata": {},
   "outputs": [
    {
     "data": {
      "text/plain": [
       "'abcdefghijklmnopqrstuvwxyz'"
      ]
     },
     "execution_count": 23,
     "metadata": {},
     "output_type": "execute_result"
    }
   ],
   "source": [
    "import string\n",
    "string.ascii_lowercase"
   ]
  },
  {
   "cell_type": "code",
   "execution_count": 24,
   "metadata": {},
   "outputs": [
    {
     "name": "stdout",
     "output_type": "stream",
     "text": [
      "a\n",
      "b\n",
      "c\n",
      "d\n",
      "e\n",
      "f\n",
      "g\n",
      "h\n",
      "i\n",
      "J\n",
      "K\n",
      "L\n",
      "M\n",
      "N\n",
      "O\n",
      "P\n",
      "Q\n",
      "R\n",
      "S\n",
      "T\n",
      "U\n",
      "V\n",
      "W\n",
      "X\n",
      "Y\n",
      "Z\n"
     ]
    }
   ],
   "source": [
    "for char in string.ascii_lowercase:\n",
    "    if char > 'i':\n",
    "        print(char.upper())\n",
    "    else:\n",
    "        print(char)"
   ]
  },
  {
   "cell_type": "code",
   "execution_count": 25,
   "metadata": {},
   "outputs": [],
   "source": [
    "# do_function\n",
    "# 매개변수 2개를 받음\n",
    "# 1번째 매개변수를 2번째 매개변수의 호출의 인자로 사용\n",
    "# (2번째 매개변수에는 함수가 올 것으로 생각)\n",
    "# 호출 결과를 리턴"
   ]
  },
  {
   "cell_type": "code",
   "execution_count": 27,
   "metadata": {},
   "outputs": [],
   "source": [
    "def do_function(arg,function):\n",
    "    return function(arg)"
   ]
  },
  {
   "cell_type": "code",
   "execution_count": 29,
   "metadata": {},
   "outputs": [
    {
     "data": {
      "text/plain": [
       "5"
      ]
     },
     "execution_count": 29,
     "metadata": {},
     "output_type": "execute_result"
    }
   ],
   "source": [
    "do_function('abcde',len)"
   ]
  },
  {
   "cell_type": "code",
   "execution_count": 30,
   "metadata": {},
   "outputs": [
    {
     "data": {
      "text/plain": [
       "'A'"
      ]
     },
     "execution_count": 30,
     "metadata": {},
     "output_type": "execute_result"
    }
   ],
   "source": [
    "# function에 아무것도 주어지지 않으면, 주어진 arg의 .upper() 를 실행한 결과를 리턴\n",
    "# 내부함수를 사용해서 구현\n",
    "\n",
    "def return_value_upper(value):\n",
    "    return value.upper()\n",
    "\n",
    "def do_function(arg, function=None):\n",
    "    if not function:\n",
    "        function = return_value_upper\n",
    "    return function(arg)\n",
    "\n",
    "do_function('a')"
   ]
  },
  {
   "cell_type": "code",
   "execution_count": null,
   "metadata": {},
   "outputs": [],
   "source": []
  }
 ],
 "metadata": {
  "kernelspec": {
   "display_name": "Python 3",
   "language": "python",
   "name": "python3"
  },
  "language_info": {
   "codemirror_mode": {
    "name": "ipython",
    "version": 3
   },
   "file_extension": ".py",
   "mimetype": "text/x-python",
   "name": "python",
   "nbconvert_exporter": "python",
   "pygments_lexer": "ipython3",
   "version": "3.6.6"
  }
 },
 "nbformat": 4,
 "nbformat_minor": 2
}
