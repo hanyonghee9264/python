{
 "cells": [
  {
   "cell_type": "code",
   "execution_count": 1,
   "metadata": {},
   "outputs": [],
   "source": [
    "# find라는 변수가 가진 값이 sample 을 순회하며 순회하는 item안에 존재하지 않았다면\n",
    "# '찾지못함'이라는 문자열을 print\n",
    "# 존재한다면 해당 순간에 find에 해당하는 값을 찾았음을 알리고 break로 for loop탈출 찾지못함이라는 문자열은 보여주지 않음\n",
    "\n",
    "# for-else를 쓰지 않고 구현 (for문 외부에 찾음/찾지못함을 저장할 변수 하나 필요)\n",
    "\n",
    "# for-else문을 사용할때는 for문을 외부에 변수 없이 구현 가능 만들어보기"
   ]
  },
  {
   "cell_type": "code",
   "execution_count": 5,
   "metadata": {},
   "outputs": [
    {
     "name": "stdout",
     "output_type": "stream",
     "text": [
      "10을 찾지 못함 ㅠ\n"
     ]
    }
   ],
   "source": [
    "sample = [\n",
    "    [1,2,3],\n",
    "    [4,5,6],\n",
    "    [7,8,9],\n",
    "]\n",
    "find = 10\n",
    "\n",
    "for item in sample:\n",
    "    if find in item:\n",
    "        print(f'{find}을 찾았음!')\n",
    "        break\n",
    "else:\n",
    "    print(f'{find}을 찾지 못함 ㅠ')"
   ]
  },
  {
   "cell_type": "code",
   "execution_count": 8,
   "metadata": {},
   "outputs": [
    {
     "name": "stdout",
     "output_type": "stream",
     "text": [
      "10을 찾지 못함\n"
     ]
    }
   ],
   "source": [
    "sample = [1,2,3,4,5,6,7,8,9]\n",
    "find = 10\n",
    "found = False\n",
    "\n",
    "for item in sample:\n",
    "    if find == item:\n",
    "        print(f'{find}을 찾음')\n",
    "        found = True\n",
    "        break\n",
    "              \n",
    "if not found:\n",
    "    print(f'{find}을 찾지 못함')"
   ]
  }
 ],
 "metadata": {
  "kernelspec": {
   "display_name": "Python 3",
   "language": "python",
   "name": "python3"
  },
  "language_info": {
   "codemirror_mode": {
    "name": "ipython",
    "version": 3
   },
   "file_extension": ".py",
   "mimetype": "text/x-python",
   "name": "python",
   "nbconvert_exporter": "python",
   "pygments_lexer": "ipython3",
   "version": "3.6.6"
  }
 },
 "nbformat": 4,
 "nbformat_minor": 2
}
