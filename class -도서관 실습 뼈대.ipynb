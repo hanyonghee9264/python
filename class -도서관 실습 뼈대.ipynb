{
 "cells": [
  {
   "cell_type": "code",
   "execution_count": 56,
   "metadata": {},
   "outputs": [],
   "source": [
    "class Library():\n",
    "    book_list = ['책1','책2','책3','책4','책5']\n",
    "    '''\n",
    "    도서관\n",
    "    '''\n",
    "    def __init__(self, name, book_list):\n",
    "        self.name = name\n",
    "        self.book_list = []\n",
    "        \n",
    "    def add_book(self, book):\n",
    "        if not book in self.book_list:\n",
    "            book.self.book_list.append(book)\n",
    "            print(f'{book}이 추가되었습니다.')\n",
    "        else:\n",
    "            print(f'{book}은 이미 존재합니다.')\n",
    "            \n",
    "    def remove_book(self):\n",
    "        pass\n",
    "    \n",
    "    \n",
    "class Book():\n",
    "    '''\n",
    "    도서\n",
    "    '''\n",
    "    def __init__(self, book, location):\n",
    "        self.book = book\n",
    "        self.location = location\n",
    "    @property\n",
    "    def is_borrowed(self):\n",
    "        pass\n",
    "    \n",
    "class User():\n",
    "    '''\n",
    "    한용희\n",
    "    '''\n",
    "    def __init__(self, name, book_list):\n",
    "        self.name = name\n",
    "        \n",
    "    def borrow_book(self, library, book_name):\n",
    "        pass\n",
    "    def return_book(self, library, book_name):\n",
    "        pass"
   ]
  },
  {
   "cell_type": "code",
   "execution_count": 57,
   "metadata": {},
   "outputs": [
    {
     "data": {
      "text/plain": [
       "['책1', '책2', '책3', '책4', '책5']"
      ]
     },
     "execution_count": 57,
     "metadata": {},
     "output_type": "execute_result"
    }
   ],
   "source": [
    "li = Library('수락도서관', '죄와벌')\n",
    "Library.book_list"
   ]
  },
  {
   "cell_type": "code",
   "execution_count": 67,
   "metadata": {},
   "outputs": [],
   "source": [
    "class Library:\n",
    "    def __init__(self, name, book_list):\n",
    "        self.name = name\n",
    "        self.book_list = book_list\n",
    "        \n",
    "    def add_book(self, book_title):\n",
    "        book1 = Book(book_title,'수락도서관')\n",
    "        self.book_list.append(book1)\n",
    "        \n",
    "    def remove_book(self, book_title):\n",
    "        for index in range(len(self.book_list)):\n",
    "            if book_title in self.book_list:\n",
    "                self.book_list.remove(book_title)\n",
    "                \n",
    "    @property\n",
    "    def info(self):\n",
    "        return self.book_list\n",
    "            "
   ]
  },
  {
   "cell_type": "code",
   "execution_count": 68,
   "metadata": {},
   "outputs": [],
   "source": [
    "book1 = Book('책1','수락도서관')\n",
    "book2 = Book('책2','수락도서관')\n",
    "book3 = Book('책3','수락도서관')\n",
    "book4 = Book('책4','수락도서관')\n",
    "book5 = Book('책5','수락도서관')\n",
    "book_list = []\n",
    "book_list.append(book1)\n",
    "book_list.append(book2)\n",
    "book_list.append(book3)\n",
    "book_list.append(book4)\n",
    "book_list.append(book5)\n",
    "\n",
    "Surak = Library('수락도서관', book_list)\n",
    "\n",
    "Surak.add_book('지지지')"
   ]
  },
  {
   "cell_type": "code",
   "execution_count": 69,
   "metadata": {},
   "outputs": [
    {
     "name": "stdout",
     "output_type": "stream",
     "text": [
      "책 제목 : 책1\n",
      "책 제목 : 책2\n",
      "책 제목 : 책3\n",
      "책 제목 : 책4\n",
      "책 제목 : 책5\n",
      "책 제목 : 지지지\n"
     ]
    }
   ],
   "source": [
    "for i in range(len(Surak.book_list)):\n",
    "    print(f'책 제목 : {Surak.book_list[i].book}')"
   ]
  },
  {
   "cell_type": "code",
   "execution_count": null,
   "metadata": {},
   "outputs": [],
   "source": []
  }
 ],
 "metadata": {
  "kernelspec": {
   "display_name": "Python 3",
   "language": "python",
   "name": "python3"
  },
  "language_info": {
   "codemirror_mode": {
    "name": "ipython",
    "version": 3
   },
   "file_extension": ".py",
   "mimetype": "text/x-python",
   "name": "python",
   "nbconvert_exporter": "python",
   "pygments_lexer": "ipython3",
   "version": "3.6.6"
  }
 },
 "nbformat": 4,
 "nbformat_minor": 2
}
