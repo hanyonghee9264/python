{
 "cells": [
  {
   "cell_type": "code",
   "execution_count": 1,
   "metadata": {},
   "outputs": [],
   "source": [
    "class Library:      # 클래스 도서관(library)를 생성\n",
    "    def __init__(self, name, book_list): # 초기화 메서드로 속성은 name과\n",
    "        self.name = name               # book_list를 만들었음\n",
    "        self.book_list = book_list\n",
    "    \n",
    "    def __repr__(self):\n",
    "        return f'Library ({self.name})[id:{id(self)}]'\n",
    "    \n",
    "    def __str__(self):\n",
    "        return self.name\n",
    "    \n",
    "    def add_book(self, book_title):     # 책을 추가하기 위해 add_book이라는\n",
    "        \"\"\"\n",
    "        입력받은 book_title에 해당하는 Book(Book 인스턴스)이 자신의 book_list에 없다면\n",
    "        새로운 Book을 만들어서 추가\n",
    "        \"\"\"\n",
    "        for book in self.book_list:\n",
    "            if book.title == book_title:\n",
    "                print('이미 소장중인 도서입니다.')\n",
    "                break\n",
    "        else:\n",
    "            self.book_list.append(Book(book_title))\n",
    "            print(f'책({book_title})이 소장 도서에 추가되었습니다.')\n",
    "    \n",
    "    def remove_book(self, book_title):\n",
    "        \"\"\"\n",
    "        입력받은 book_title에 해당하는 Book이 자신의 book_list에 있다면 삭제\n",
    "        \"\"\"\n",
    "        for book in self.book_list:\n",
    "            if book.title == book_title:\n",
    "                self.book_list.remove(book)\n",
    "                print('책({book_title})이 소장 도서에서 삭제되었습니다')\n",
    "                break\n",
    "        else:\n",
    "            print('소장중인 도서가 아닙니다.')\n",
    "    \n",
    "    @property\n",
    "    def info(self):\n",
    "        \"\"\"\n",
    "        자신이 가진 도서 목록(book_list)에 대한 정보를 적절히 텍스트로 리턴\n",
    "        \"\"\"\n",
    "        return\n",
    "    \n",
    "    "
   ]
  },
  {
   "cell_type": "code",
   "execution_count": 2,
   "metadata": {},
   "outputs": [],
   "source": [
    "class Book:\n",
    "    def __init__(self, title, location=None):\n",
    "        self.title = title\n",
    "        self.location = location\n",
    "    \n",
    "    def __repr__(self):\n",
    "        return f'Book ({self.title})[id:{id(self)}]'\n",
    "    \n",
    "    def __str__(self):\n",
    "        return self.title\n",
    "    \n",
    "    @property\n",
    "    def is_borrowed(self):\n",
    "        \"\"\"\n",
    "        자신의 location이\n",
    "        User면 True\n",
    "        Library면 False\n",
    "        \"\"\"\n",
    "        return True"
   ]
  },
  {
   "cell_type": "code",
   "execution_count": 3,
   "metadata": {},
   "outputs": [],
   "source": [
    "class User:\n",
    "    def __init__(self, name, book_list=None):  # book_list에 None을 주면 if문에서 False로 출력\n",
    "        self.name = name\n",
    "        self.book_list = book_list if book_list else []\n",
    "        \n",
    "    def __repr__(self):\n",
    "        return f'User ({self.name})[id:{id(self)}]'    \n",
    "    \n",
    "    def __str__(self):\n",
    "        return self.name\n",
    "    \n",
    "    def borrow_book(self, library, book_name):\n",
    "        \"\"\"\n",
    "        library에서 book_name에 해당하는 Book을 자신의 book_list로 가져옴\n",
    "        \"\"\"\n",
    "        pass\n",
    "    \n",
    "    def return_book(self, library, book_name):\n",
    "        \"\"\"\n",
    "        library에 book_name에 해당하는 Book을 자신의 book_list에서 건내줌\n",
    "        \"\"\"\n",
    "        pass"
   ]
  },
  {
   "cell_type": "code",
   "execution_count": 4,
   "metadata": {},
   "outputs": [],
   "source": [
    "library1 = Library('수락도서관',[])"
   ]
  },
  {
   "cell_type": "code",
   "execution_count": 5,
   "metadata": {},
   "outputs": [
    {
     "name": "stdout",
     "output_type": "stream",
     "text": [
      "책(처음 시작하는 파이썬)이 소장 도서에 추가되었습니다.\n"
     ]
    }
   ],
   "source": [
    "library1.add_book('처음 시작하는 파이썬')"
   ]
  },
  {
   "cell_type": "code",
   "execution_count": 6,
   "metadata": {},
   "outputs": [
    {
     "name": "stdout",
     "output_type": "stream",
     "text": [
      "이미 소장중인 도서입니다.\n"
     ]
    }
   ],
   "source": [
    "library1.add_book('처음 시작하는 파이썬')"
   ]
  },
  {
   "cell_type": "code",
   "execution_count": 7,
   "metadata": {},
   "outputs": [
    {
     "name": "stdout",
     "output_type": "stream",
     "text": [
      "책(처음 보는 책)이 소장 도서에 추가되었습니다.\n"
     ]
    }
   ],
   "source": [
    "library1.add_book('처음 보는 책')"
   ]
  },
  {
   "cell_type": "code",
   "execution_count": 8,
   "metadata": {},
   "outputs": [
    {
     "name": "stdout",
     "output_type": "stream",
     "text": [
      "소장중인 도서가 아닙니다.\n"
     ]
    }
   ],
   "source": [
    "library1.remove_book('asdf')"
   ]
  },
  {
   "cell_type": "code",
   "execution_count": 9,
   "metadata": {},
   "outputs": [
    {
     "name": "stdout",
     "output_type": "stream",
     "text": [
      "책({book_title})이 소장 도서에서 삭제되었습니다\n"
     ]
    }
   ],
   "source": [
    "library1.remove_book('처음 보는 책')"
   ]
  },
  {
   "cell_type": "code",
   "execution_count": 10,
   "metadata": {},
   "outputs": [
    {
     "data": {
      "text/plain": [
       "[Book (처음 시작하는 파이썬)[id:139643213465808]]"
      ]
     },
     "execution_count": 10,
     "metadata": {},
     "output_type": "execute_result"
    }
   ],
   "source": [
    "library1.book_list"
   ]
  },
  {
   "cell_type": "code",
   "execution_count": null,
   "metadata": {},
   "outputs": [],
   "source": []
  }
 ],
 "metadata": {
  "kernelspec": {
   "display_name": "Python 3",
   "language": "python",
   "name": "python3"
  },
  "language_info": {
   "codemirror_mode": {
    "name": "ipython",
    "version": 3
   },
   "file_extension": ".py",
   "mimetype": "text/x-python",
   "name": "python",
   "nbconvert_exporter": "python",
   "pygments_lexer": "ipython3",
   "version": "3.6.6"
  }
 },
 "nbformat": 4,
 "nbformat_minor": 2
}
