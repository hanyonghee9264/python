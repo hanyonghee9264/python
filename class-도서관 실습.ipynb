{
 "cells": [
  {
   "cell_type": "code",
   "execution_count": 1,
   "metadata": {},
   "outputs": [],
   "source": [
    "class Library:        # Library라는 클래스 생성\n",
    "    \n",
    "    def __init__(self, name, book_list): # 초기화 메서드 인자로 도서관명\n",
    "        self.name = name                 # 도서 목록을 넣어줬음\n",
    "        self.book_list = book_list\n",
    "    \n",
    "    def add_book(self, book_title):#book_title에는 아무거나 가 있다\n",
    "        new_book = Book(book_title,'수락도서관')\n",
    "        self.book_list.append(new_book)\n",
    "    \n",
    "    def remove_book(self, book_title):\n",
    "        for index, book in enumerate(self.book_list):\n",
    "            if book_title in book.book_title:\n",
    "                self.book_list.pop(index)\n",
    "                break\n",
    "    \n",
    "    @property\n",
    "    def info(self):\n",
    "        pass\n",
    "\n",
    "class Book:\n",
    "    def __init__(self, book_title, location):\n",
    "        self.book_title = book_title\n",
    "        self.location = location\n",
    "        \n",
    "    @property\n",
    "    def is_borrowed(self):\n",
    "        return self.location"
   ]
  },
  {
   "cell_type": "code",
   "execution_count": 2,
   "metadata": {},
   "outputs": [],
   "source": [
    "# class User:\n",
    "#     def __init__(self, name, book_list):\n",
    "#         self.name = name\n",
    "#         self.book_list = book_list\n",
    "        \n",
    "#     def borrow_book(self, library, book_title):\n",
    "#         for index, book in enumerate(library.book_list):\n",
    "#             if book_title in book.book_title:\n",
    "#                 print(f'{book_title}을 대여합니다.')\n",
    "#                 break\n",
    "#                 wanted_book = book\n",
    "#                 self.book_list.append(wanted_book)\n",
    "                \n",
    "#             else:\n",
    "#                 print(f'찾으시는 {book_title}은 없습니다.')"
   ]
  },
  {
   "cell_type": "code",
   "execution_count": 3,
   "metadata": {},
   "outputs": [],
   "source": [
    "book_list = []\n",
    "# 클래스 Library를 surak 인스턴스로 받음\n",
    "surak = Library('수락도서관', book_list)\n",
    "\n",
    "# 책 5권 추가하기\n",
    "new_book = Book('죄와벌', '수락도서관')\n",
    "new_book2 = Book('죄와벌2', '수락도서관')\n",
    "new_book3 = Book('죄와벌3', '수락도서관')\n",
    "new_book4 = Book('죄와벌4', '수락도서관')\n",
    "new_book5 = Book('죄와벌5', '수락도서관')\n",
    "\n",
    "# 수락도서관에 책 2권 추가\n",
    "surak.add_book('아무거나')\n",
    "surak.add_book('노트북')\n",
    "\n",
    "# 책을 리스트화 시킴\n",
    "book_list.append(new_book)\n",
    "book_list.append(new_book2)\n",
    "book_list.append(new_book3)\n",
    "book_list.append(new_book4)\n",
    "book_list.append(new_book5)\n",
    "\n",
    "hyh = User('한용희', book_list)"
   ]
  },
  {
   "cell_type": "code",
   "execution_count": 4,
   "metadata": {},
   "outputs": [
    {
     "name": "stdout",
     "output_type": "stream",
     "text": [
      "책 제목 : 아무거나\n",
      "책 제목 : 노트북\n",
      "책 제목 : 죄와벌\n",
      "책 제목 : 죄와벌2\n",
      "책 제목 : 죄와벌3\n",
      "책 제목 : 죄와벌4\n",
      "책 제목 : 죄와벌5\n"
     ]
    }
   ],
   "source": [
    "for i in range(len(surak.book_list)):\n",
    "    print(f'책 제목 : {surak.book_list[i].book_title}')"
   ]
  },
  {
   "cell_type": "code",
   "execution_count": 5,
   "metadata": {},
   "outputs": [
    {
     "name": "stdout",
     "output_type": "stream",
     "text": [
      "찾으시는 죄와벌은 없습니다.\n"
     ]
    }
   ],
   "source": [
    "hyh.borrow_book(surak, '죄와벌')"
   ]
  },
  {
   "cell_type": "code",
   "execution_count": 6,
   "metadata": {},
   "outputs": [],
   "source": [
    "surak.remove_book('죄와벌5')"
   ]
  },
  {
   "cell_type": "code",
   "execution_count": 7,
   "metadata": {},
   "outputs": [
    {
     "name": "stdout",
     "output_type": "stream",
     "text": [
      "책 제목 : 아무거나\n",
      "책 제목 : 노트북\n",
      "책 제목 : 죄와벌\n",
      "책 제목 : 죄와벌2\n",
      "책 제목 : 죄와벌3\n",
      "책 제목 : 죄와벌4\n"
     ]
    }
   ],
   "source": [
    "for i in range(len(surak.book_list)):\n",
    "    print(f'책 제목 : {surak.book_list[i].book_title}')"
   ]
  },
  {
   "cell_type": "code",
   "execution_count": 8,
   "metadata": {},
   "outputs": [
    {
     "name": "stdout",
     "output_type": "stream",
     "text": [
      "죄와벌\n"
     ]
    }
   ],
   "source": [
    "print(new_book.book_title)"
   ]
  },
  {
   "cell_type": "code",
   "execution_count": 9,
   "metadata": {},
   "outputs": [
    {
     "name": "stdout",
     "output_type": "stream",
     "text": [
      "0 2\n",
      "1 3\n",
      "2 4\n",
      "3 5\n",
      "4 6\n",
      "5 7\n",
      "6 8\n",
      "7 9\n"
     ]
    }
   ],
   "source": [
    "for index, i in enumerate(range(2, 10)):\n",
    "    print(index, i)"
   ]
  },
  {
   "cell_type": "code",
   "execution_count": 10,
   "metadata": {},
   "outputs": [
    {
     "name": "stdout",
     "output_type": "stream",
     "text": [
      "책 제목 : 아무거나\n",
      "책 제목 : 노트북\n",
      "책 제목 : 죄와벌\n",
      "책 제목 : 죄와벌2\n",
      "책 제목 : 죄와벌3\n",
      "책 제목 : 죄와벌4\n"
     ]
    }
   ],
   "source": [
    "for i in range(len(surak.book_list)):\n",
    "    print(f'책 제목 : {surak.book_list[i].book_title}')"
   ]
  },
  {
   "cell_type": "code",
   "execution_count": 11,
   "metadata": {},
   "outputs": [
    {
     "name": "stdout",
     "output_type": "stream",
     "text": [
      "책 제목 : 아무거나\n",
      "책 제목 : 노트북\n",
      "책 제목 : 죄와벌\n",
      "책 제목 : 죄와벌2\n",
      "책 제목 : 죄와벌3\n",
      "책 제목 : 죄와벌4\n"
     ]
    }
   ],
   "source": [
    "for index, book in enumerate(surak.book_list): # 1. 고비 enumerate & index\n",
    "    if '죄와벌5' in book.book_title:            # 2. 고비\n",
    "        surak.book_list.pop(index)\n",
    "#         del surak.book_list[index]\n",
    "        break\n",
    "        \n",
    "        \n",
    "def remove_book(self, book_title):\n",
    "    for index, book in enumerate(self.book_list):\n",
    "        if book_title in book.book_title:\n",
    "            self.book_list.pop(index)\n",
    "            break        \n",
    "        \n",
    "for i in range(len(surak.book_list)):\n",
    "    print(f'책 제목 : {surak.book_list[i].book_title}')"
   ]
  },
  {
   "cell_type": "code",
   "execution_count": 12,
   "metadata": {},
   "outputs": [
    {
     "name": "stdout",
     "output_type": "stream",
     "text": [
      "0 2\n",
      "1 3\n",
      "2 4\n",
      "3 5\n",
      "4 6\n",
      "5 7\n",
      "6 8\n",
      "7 9\n"
     ]
    }
   ],
   "source": [
    "for index, i in enumerate(range(2, 10)):\n",
    "    print(index, i)"
   ]
  },
  {
   "cell_type": "code",
   "execution_count": 13,
   "metadata": {},
   "outputs": [
    {
     "data": {
      "text/plain": [
       "'죄와벌4'"
      ]
     },
     "execution_count": 13,
     "metadata": {},
     "output_type": "execute_result"
    }
   ],
   "source": [
    "surak.book_list[0].book_title\n",
    "book.book_title"
   ]
  },
  {
   "cell_type": "code",
   "execution_count": 14,
   "metadata": {},
   "outputs": [
    {
     "name": "stdout",
     "output_type": "stream",
     "text": [
      "<__main__.Book object at 0x7f5570c23828>\n"
     ]
    }
   ],
   "source": [
    "print(surak.book_list[0])"
   ]
  },
  {
   "cell_type": "code",
   "execution_count": 16,
   "metadata": {},
   "outputs": [],
   "source": [
    "    def borrow_book(self_instance_User, instance_surak, book_title):\n",
    "        for index, book in enumerate(instance_surak.book_list):\n",
    "            if book_title in book.book_title:\n",
    "                print(f'{book_title}을 대여합니다.')\n",
    "                wanted_book = book\n",
    "                self_instance_User.book_list.append(wanted_book)\n",
    "            else:\n",
    "                print(f'찾으시는 {book_title}은 없습니다.')\n",
    "                \n",
    "                \n",
    "    def remove_book(self_instance_Library, book_title):\n",
    "        for index, book in enumerate(a.book_list):\n",
    "            if book_title in book.book_title:\n",
    "                self.book_list.pop(index)\n",
    "                break"
   ]
  },
  {
   "cell_type": "code",
   "execution_count": 28,
   "metadata": {},
   "outputs": [],
   "source": [
    "class User:\n",
    "    def __init__(self, name, book_list):\n",
    "        self.name = name\n",
    "        self.book_list = book_list\n",
    "        \n",
    "    def borrow_book(self, library, book_title):\n",
    "        for index, book in enumerate(library.book_list):\n",
    "            if book_title in book.book_title:\n",
    "                print(f'{book_title}을 대여합니다.')\n",
    "                wanted_book = book\n",
    "                self.book_list.append(wanted_book)\n",
    "                \n",
    "            else:\n",
    "                print(f'찾으시는 {book_title}은 없습니다.')"
   ]
  },
  {
   "cell_type": "code",
   "execution_count": 29,
   "metadata": {},
   "outputs": [
    {
     "name": "stdout",
     "output_type": "stream",
     "text": [
      "찾으시는 ㅁ123은 없습니다.\n"
     ]
    }
   ],
   "source": [
    "hyh.borrow_book(surak, 'ㅁ123')"
   ]
  },
  {
   "cell_type": "code",
   "execution_count": 36,
   "metadata": {},
   "outputs": [
    {
     "name": "stdout",
     "output_type": "stream",
     "text": [
      "<class '__main__.Library'>\n"
     ]
    }
   ],
   "source": [
    "print(type(surak))"
   ]
  },
  {
   "cell_type": "code",
   "execution_count": 38,
   "metadata": {},
   "outputs": [
    {
     "ename": "NameError",
     "evalue": "name 'library' is not defined",
     "output_type": "error",
     "traceback": [
      "\u001b[0;31m---------------------------------------------------------------------------\u001b[0m",
      "\u001b[0;31mNameError\u001b[0m                                 Traceback (most recent call last)",
      "\u001b[0;32m<ipython-input-38-94acd3d584d8>\u001b[0m in \u001b[0;36m<module>\u001b[0;34m()\u001b[0m\n\u001b[0;32m----> 1\u001b[0;31m \u001b[0mprint\u001b[0m\u001b[0;34m(\u001b[0m\u001b[0mtype\u001b[0m\u001b[0;34m(\u001b[0m\u001b[0mlibrary\u001b[0m\u001b[0;34m)\u001b[0m\u001b[0;34m)\u001b[0m\u001b[0;34m\u001b[0m\u001b[0m\n\u001b[0m",
      "\u001b[0;31mNameError\u001b[0m: name 'library' is not defined"
     ]
    }
   ],
   "source": [
    "print(type(library)) "
   ]
  },
  {
   "cell_type": "code",
   "execution_count": null,
   "metadata": {},
   "outputs": [],
   "source": []
  }
 ],
 "metadata": {
  "kernelspec": {
   "display_name": "Python 3",
   "language": "python",
   "name": "python3"
  },
  "language_info": {
   "codemirror_mode": {
    "name": "ipython",
    "version": 3
   },
   "file_extension": ".py",
   "mimetype": "text/x-python",
   "name": "python",
   "nbconvert_exporter": "python",
   "pygments_lexer": "ipython3",
   "version": "3.6.6"
  }
 },
 "nbformat": 4,
 "nbformat_minor": 2
}
